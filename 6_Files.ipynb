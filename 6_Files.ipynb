{
  "nbformat": 4,
  "nbformat_minor": 0,
  "metadata": {
    "colab": {
      "provenance": [],
      "include_colab_link": true
    },
    "kernelspec": {
      "name": "python3",
      "display_name": "Python 3"
    }
  },
  "cells": [
    {
      "cell_type": "markdown",
      "metadata": {
        "id": "view-in-github",
        "colab_type": "text"
      },
      "source": [
        "<a href=\"https://colab.research.google.com/github/Sonaxy/Python-Programming-Basics/blob/main/6_Files.ipynb\" target=\"_parent\"><img src=\"https://colab.research.google.com/assets/colab-badge.svg\" alt=\"Open In Colab\"/></a>"
      ]
    },
    {
      "cell_type": "markdown",
      "metadata": {
        "id": "iLfi8gKMoAd6"
      },
      "source": [
        "# 1. TEXT FILES"
      ]
    },
    {
      "cell_type": "markdown",
      "metadata": {
        "id": "r2IjrNQmoFxC"
      },
      "source": [
        "- open() is the key function to handle files\n",
        "- open() function takes two parameters: (1) filename (2) mode.\n",
        "- Modes for files opening:\n",
        "\n",
        "    - \"r\" - Read - Default value. Opens a file for reading, error if the file does not exist\n",
        "    - \"a\" - Append - Opens a file for appending, creates the file if it does not exist\n",
        "    - \"w\" - Write - Opens a file for writing, creates the file if it does not exist\n",
        "    - \"x\" - Create - Creates the specified file, returns an error if the file exists\n",
        "\n",
        "- files can be used in a binary or text mode\n",
        "\n",
        "    - \"t\" - Text - Default value. Text mode\n",
        "    - \"b\" - Binary - Binary mode (e.g. images)"
      ]
    },
    {
      "cell_type": "code",
      "metadata": {
        "id": "xEbqa95ArXlE",
        "colab": {
          "base_uri": "https://localhost:8080/"
        },
        "outputId": "d777ec4d-d3ac-4912-c6aa-da8a38a9e306"
      },
      "source": [
        "# In order to access data on Google Drive, you need to mount the drive to access it's content\n",
        "from google.colab import drive\n",
        "drive.mount('/content/drive')"
      ],
      "execution_count": null,
      "outputs": [
        {
          "output_type": "stream",
          "name": "stdout",
          "text": [
            "Mounted at /content/drive\n"
          ]
        }
      ]
    },
    {
      "cell_type": "code",
      "metadata": {
        "id": "zqk6rO37oC_g",
        "colab": {
          "base_uri": "https://localhost:8080/"
        },
        "outputId": "f46456ab-d791-440a-8430-11459ad7e50a"
      },
      "source": [
        "# Open and read text file\n",
        "f = open('/content/drive/MyDrive/Python+for+Financial+Analysis+-+Course+Package/Part 1. Python Programming Fundamentals/sample_text_file.txt', 'r')\n",
        "print(f.read())"
      ],
      "execution_count": null,
      "outputs": [
        {
          "output_type": "stream",
          "name": "stdout",
          "text": [
            "I am learning python now!\n",
            "It is super fun to learn Python programming \n",
            "I am learning how to handle files in python!trying appending content to the existing filetrying appending content to the existing filetrying appending content to the existing filetrying appending content to the existing filetrying to append content to the existing filetrying to append content to the existing file\n",
            "\n"
          ]
        }
      ]
    },
    {
      "cell_type": "code",
      "metadata": {
        "id": "m1596TUCoInJ",
        "colab": {
          "base_uri": "https://localhost:8080/"
        },
        "outputId": "e641ec42-64f4-4026-99ee-428125acc60a"
      },
      "source": [
        "# readline will be used to read the first line\n",
        "f = open('/content/drive/MyDrive/Python+for+Financial+Analysis+-+Course+Package/Part 1. Python Programming Fundamentals/sample_text_file.txt', 'r')\n",
        "print(f.readline())"
      ],
      "execution_count": null,
      "outputs": [
        {
          "output_type": "stream",
          "name": "stdout",
          "text": [
            "I am learning python now!\n",
            "\n"
          ]
        }
      ]
    },
    {
      "cell_type": "code",
      "metadata": {
        "id": "-2Y52n0UoIpX",
        "colab": {
          "base_uri": "https://localhost:8080/"
        },
        "outputId": "83a88dbe-6f43-41ec-d549-995d5855fa1f"
      },
      "source": [
        "# You can open the file and append content to it\n",
        "f = open('/content/drive/MyDrive/Python+for+Financial+Analysis+-+Course+Package/Part 1. Python Programming Fundamentals/sample_text_file.txt', 'a')\n",
        "f.write('trying to append content to the existing file\\n')"
      ],
      "execution_count": null,
      "outputs": [
        {
          "output_type": "execute_result",
          "data": {
            "text/plain": [
              "46"
            ]
          },
          "metadata": {},
          "execution_count": 12
        }
      ]
    },
    {
      "cell_type": "code",
      "metadata": {
        "id": "6twyC3vfoIrU"
      },
      "source": [
        "# close the file and let's check its content\n",
        "f.close()"
      ],
      "execution_count": null,
      "outputs": []
    },
    {
      "cell_type": "code",
      "metadata": {
        "id": "sEQ6zDLaoOga"
      },
      "source": [
        "# Let's open the updated file after writing new content to it\n",
        "with open('/content/drive/MyDrive/Python+for+Financial+Analysis+-+Course+Package/Part 1. Python Programming Fundamentals/sample_text_file.txt', 'r') as f:\n",
        "  text_data = f.readlines()"
      ],
      "execution_count": null,
      "outputs": []
    },
    {
      "cell_type": "code",
      "metadata": {
        "id": "HqnHR33noOiZ",
        "colab": {
          "base_uri": "https://localhost:8080/"
        },
        "outputId": "314a04ea-dc2c-42f8-bfad-606de0201bb9"
      },
      "source": [
        "text_data"
      ],
      "execution_count": null,
      "outputs": [
        {
          "output_type": "execute_result",
          "data": {
            "text/plain": [
              "['I am learning python now!\\n',\n",
              " 'It is super fun to learn Python programming \\n',\n",
              " 'I am learning how to handle files in python!trying appending content to the existing filetrying appending content to the existing filetrying appending content to the existing filetrying appending content to the existing filetrying to append content to the existing filetrying to append content to the existing file\\n']"
            ]
          },
          "metadata": {},
          "execution_count": 15
        }
      ]
    },
    {
      "cell_type": "code",
      "metadata": {
        "id": "GJAfep33oOke",
        "colab": {
          "base_uri": "https://localhost:8080/"
        },
        "outputId": "39c54fbb-a847-4093-a56a-091d0cfde845"
      },
      "source": [
        "# split into a list of words\n",
        "\n",
        "for line in text_data:\n",
        "  words = line.split()\n",
        "  print(words)"
      ],
      "execution_count": null,
      "outputs": [
        {
          "output_type": "stream",
          "name": "stdout",
          "text": [
            "['I', 'am', 'learning', 'python', 'now!']\n",
            "['It', 'is', 'super', 'fun', 'to', 'learn', 'Python', 'programming']\n",
            "['I', 'am', 'learning', 'how', 'to', 'handle', 'files', 'in', 'python!trying', 'appending', 'content', 'to', 'the', 'existing', 'filetrying', 'appending', 'content', 'to', 'the', 'existing', 'filetrying', 'appending', 'content', 'to', 'the', 'existing', 'filetrying', 'appending', 'content', 'to', 'the', 'existing', 'filetrying', 'to', 'append', 'content', 'to', 'the', 'existing', 'filetrying', 'to', 'append', 'content', 'to', 'the', 'existing', 'file']\n"
          ]
        }
      ]
    },
    {
      "cell_type": "markdown",
      "metadata": {
        "id": "_9ihcna1v0Y9"
      },
      "source": [
        "**MINI CHALLENGE #1:**\n",
        "- **Read the file 'fruits_input.txt'**\n",
        "- **compare the text file content to the list my_fruits = [\"Apple\", \"Pepper\", \"Orange\", \"Watermelon\", \"Tomatoes\"]**\n"
      ]
    },
    {
      "cell_type": "code",
      "metadata": {
        "id": "FwqzbVBhx5Se"
      },
      "source": [
        "with open('/content/drive/MyDrive/Python+for+Financial+Analysis+-+Course+Package/Part 1. Python Programming Fundamentals/fruits_input.txt', 'r') as f:\n",
        "  text_data = f.readlines()"
      ],
      "execution_count": null,
      "outputs": []
    },
    {
      "cell_type": "code",
      "metadata": {
        "id": "iL0yRBfyMD6F",
        "colab": {
          "base_uri": "https://localhost:8080/"
        },
        "outputId": "a53bd3ce-8e6b-4163-ab50-4890a7161733"
      },
      "source": [
        "text_data = [item.rstrip('\\n')  for item in text_data]\n",
        "text_data"
      ],
      "execution_count": null,
      "outputs": [
        {
          "output_type": "execute_result",
          "data": {
            "text/plain": [
              "['Acai',\n",
              " 'Apple',\n",
              " 'Akee',\n",
              " 'Apricot',\n",
              " 'Avocado',\n",
              " 'Banana',\n",
              " 'Bilberry',\n",
              " 'Blackberry',\n",
              " 'Blackcurrant',\n",
              " 'Black sapote',\n",
              " 'Blueberry',\n",
              " 'Boysenberry',\n",
              " \"Buddha's hand (fingered citron)\",\n",
              " 'Crab apples',\n",
              " 'Currant',\n",
              " 'Cherry',\n",
              " 'Cherimoya (Custard Apple)',\n",
              " 'Chico fruit',\n",
              " 'Cloudberry',\n",
              " 'Coconut',\n",
              " 'Cranberry',\n",
              " 'Cucumber',\n",
              " 'Damson',\n",
              " 'Date',\n",
              " 'Dragonfruit (or Pitaya)',\n",
              " 'Durian',\n",
              " 'Elderberry',\n",
              " 'Feijoa',\n",
              " 'Fig',\n",
              " 'Goji berry',\n",
              " 'Gooseberry',\n",
              " 'Grape',\n",
              " 'Raisin',\n",
              " 'Grapefruit',\n",
              " 'Guava',\n",
              " 'Honeyberry',\n",
              " 'Huckleberry',\n",
              " 'Jabuticaba',\n",
              " 'Jackfruit',\n",
              " 'Jambul',\n",
              " 'Japanese plum',\n",
              " 'Jostaberry',\n",
              " 'Jujube',\n",
              " 'Juniper berry',\n",
              " 'Kiwano (horned melon)',\n",
              " 'Kiwifruit',\n",
              " 'Kumquat',\n",
              " 'Lemon',\n",
              " 'Lime',\n",
              " 'Loquat',\n",
              " 'Longan',\n",
              " 'Lychee',\n",
              " 'Mango',\n",
              " 'Mangosteen',\n",
              " 'Marionberry',\n",
              " 'Melon',\n",
              " 'Cantaloupe',\n",
              " 'Honeydew',\n",
              " 'Watermelon',\n",
              " 'Miracle fruit',\n",
              " 'Mulberry',\n",
              " 'Nectarine',\n",
              " 'Nance',\n",
              " 'Olive',\n",
              " 'Orange',\n",
              " 'Blood orange',\n",
              " 'Clementine',\n",
              " 'Mandarine',\n",
              " 'Tangerine',\n",
              " 'Papaya',\n",
              " 'Passionfruit',\n",
              " 'Peach',\n",
              " 'Pear',\n",
              " 'Persimmon',\n",
              " 'Plantain',\n",
              " 'Plum',\n",
              " 'Prune (dried plum)',\n",
              " 'Pineapple',\n",
              " 'Pineberry',\n",
              " 'Plumcot (or Pluot)',\n",
              " 'Pomegranate',\n",
              " 'Pomelo',\n",
              " 'Purple mangosteen',\n",
              " 'Quince',\n",
              " 'Raspberry',\n",
              " 'Salmonberry',\n",
              " 'Rambutan (or Mamin Chino)',\n",
              " 'Redcurrant',\n",
              " 'Salal berry',\n",
              " 'Salak',\n",
              " 'Satsuma',\n",
              " 'Soursop',\n",
              " 'Star apple',\n",
              " 'Star fruit',\n",
              " 'Strawberry',\n",
              " 'Surinam cherry',\n",
              " 'Tamarillo',\n",
              " 'Tamarind',\n",
              " 'Ugli fruit',\n",
              " 'White currant',\n",
              " 'White sapote',\n",
              " 'Yuzu',\n",
              " '']"
            ]
          },
          "metadata": {},
          "execution_count": 27
        }
      ]
    },
    {
      "cell_type": "code",
      "metadata": {
        "id": "ZMZDbtbGMD8k"
      },
      "source": [
        "my_fruits = [\"Apple\", \"Pepper\", \"Orange\", \"Watermelon\", \"Tomatoes\"]"
      ],
      "execution_count": null,
      "outputs": []
    },
    {
      "cell_type": "code",
      "metadata": {
        "id": "GSIATnQxMyFR",
        "colab": {
          "base_uri": "https://localhost:8080/"
        },
        "outputId": "65f13bad-4a96-4472-dc44-203c8dd15b31"
      },
      "source": [
        "for i in text_data:\n",
        "  for j in my_fruits:\n",
        "    if i == j:\n",
        "      print(i)"
      ],
      "execution_count": null,
      "outputs": [
        {
          "output_type": "stream",
          "name": "stdout",
          "text": [
            "Apple\n",
            "Watermelon\n",
            "Orange\n"
          ]
        }
      ]
    },
    {
      "cell_type": "markdown",
      "metadata": {
        "id": "mVEBiOmtnCp4"
      },
      "source": [
        "# 2. CSV FILES"
      ]
    },
    {
      "cell_type": "code",
      "metadata": {
        "id": "C6-0bqrqmZS-"
      },
      "source": [
        "# you can read csv files using \"csv.reader\"\n",
        "import csv\n",
        "\n",
        "with open('/content/drive/MyDrive/Python+for+Financial+Analysis+-+Course+Package/Part 1. Python Programming Fundamentals/sample_csv_file.csv', 'r') as f:\n",
        "  fileCSV = csv.reader(f, delimiter=',')\n",
        "  data = list(fileCSV)"
      ],
      "execution_count": null,
      "outputs": []
    },
    {
      "cell_type": "code",
      "metadata": {
        "id": "JlyWKV6fmng9",
        "colab": {
          "base_uri": "https://localhost:8080/"
        },
        "outputId": "9b8f129b-cb0e-4d80-ae1a-cf0e845d19f7"
      },
      "source": [
        "# Let's view the data\n",
        "data"
      ],
      "execution_count": null,
      "outputs": [
        {
          "output_type": "execute_result",
          "data": {
            "text/plain": [
              "[['first', ' last', ' email', ' postal', ' gender', ' dollar'],\n",
              " ['Joseph', 'Patton', 'daafeja@boh.jm', 'M6U 5U7', 'Male', '$2,629.13 '],\n",
              " ['Noah', 'Moran', 'guutodi@bigwoc.kw', 'K2D 4M9', 'Male', '$8,626.96 '],\n",
              " ['Nina', 'Keller', 'azikez@gahew.mr', 'S1T 4E6', 'Male', '$9,072.02 ']]"
            ]
          },
          "metadata": {},
          "execution_count": 31
        }
      ]
    },
    {
      "cell_type": "code",
      "metadata": {
        "id": "SuYdDHQpnZxL",
        "colab": {
          "base_uri": "https://localhost:8080/"
        },
        "outputId": "fa00ed66-15da-49fb-daae-053f827b5495"
      },
      "source": [
        "# Let's view the first row\n",
        "data[0]"
      ],
      "execution_count": null,
      "outputs": [
        {
          "output_type": "execute_result",
          "data": {
            "text/plain": [
              "['first', ' last', ' email', ' postal', ' gender', ' dollar']"
            ]
          },
          "metadata": {},
          "execution_count": 32
        }
      ]
    },
    {
      "cell_type": "code",
      "metadata": {
        "id": "iPiq2lkMnbjW",
        "colab": {
          "base_uri": "https://localhost:8080/"
        },
        "outputId": "f877e4a0-a4ac-4256-aa32-31f248e4c620"
      },
      "source": [
        "# Let's view the second row\n",
        "data[1]"
      ],
      "execution_count": null,
      "outputs": [
        {
          "output_type": "execute_result",
          "data": {
            "text/plain": [
              "['Joseph', 'Patton', 'daafeja@boh.jm', 'M6U 5U7', 'Male', '$2,629.13 ']"
            ]
          },
          "metadata": {},
          "execution_count": 33
        }
      ]
    },
    {
      "cell_type": "code",
      "metadata": {
        "id": "1EbBeptqm1XY"
      },
      "source": [
        "# Combine first and last names together to generate full_name\n",
        "full_name = []\n",
        "\n",
        "for row in data[1:]:\n",
        "  full_name.append(row[0] + \" \" + row[1])"
      ],
      "execution_count": null,
      "outputs": []
    },
    {
      "cell_type": "code",
      "metadata": {
        "id": "gD3H86PLm3FO",
        "colab": {
          "base_uri": "https://localhost:8080/"
        },
        "outputId": "9b12986f-f9d9-40e5-c445-bf64befb591e"
      },
      "source": [
        "full_name"
      ],
      "execution_count": null,
      "outputs": [
        {
          "output_type": "execute_result",
          "data": {
            "text/plain": [
              "['Joseph Patton', 'Noah Moran', 'Nina Keller']"
            ]
          },
          "metadata": {},
          "execution_count": 35
        }
      ]
    },
    {
      "cell_type": "code",
      "metadata": {
        "id": "cjLRTZfcm5_I"
      },
      "source": [
        "# Store the dollar values of the list\n",
        "dollars = []\n",
        "\n",
        "for row in data[1:]:\n",
        "  dollars.append(row[5])"
      ],
      "execution_count": null,
      "outputs": []
    },
    {
      "cell_type": "code",
      "metadata": {
        "id": "wTXefzJAm6Wv",
        "colab": {
          "base_uri": "https://localhost:8080/"
        },
        "outputId": "533c6efd-f999-45a8-ec99-3cefa33697e3"
      },
      "source": [
        "dollars"
      ],
      "execution_count": null,
      "outputs": [
        {
          "output_type": "execute_result",
          "data": {
            "text/plain": [
              "['$2,629.13 ', '$8,626.96 ', '$9,072.02 ']"
            ]
          },
          "metadata": {},
          "execution_count": 37
        }
      ]
    },
    {
      "cell_type": "markdown",
      "metadata": {
        "id": "fxYxNeqJxEmR"
      },
      "source": [
        "**MINI CHALLENGE #2:**\n",
        "- **Read the CSV file entitled \"S&P500_Stock_data.csv\" and print out the heading**\n",
        "- **Print out the first 5 rows of data**\n"
      ]
    },
    {
      "cell_type": "code",
      "metadata": {
        "id": "yzmHo9AHxhff"
      },
      "source": [
        "with open('/content/drive/MyDrive/Python+for+Financial+Analysis+-+Course+Package/Part 1. Python Programming Fundamentals/S_P500_Stock_Data.csv', 'r') as f:\n",
        "  fileCSV = csv.reader(f, delimiter=',')\n",
        "  data = list(fileCSV)"
      ],
      "execution_count": null,
      "outputs": []
    },
    {
      "cell_type": "code",
      "metadata": {
        "id": "5gflv-5oQSQg",
        "colab": {
          "base_uri": "https://localhost:8080/"
        },
        "outputId": "8ca463d6-6aec-4df6-faec-a03dc2a6fb5d"
      },
      "source": [
        "# Read the CSV file entitled \"S&P500_Stock_data.csv\" and print out the heading\n",
        "data[0]"
      ],
      "execution_count": null,
      "outputs": [
        {
          "output_type": "execute_result",
          "data": {
            "text/plain": [
              "['Interest Rates', 'Employment', 'S&P 500 Price']"
            ]
          },
          "metadata": {},
          "execution_count": 40
        }
      ]
    },
    {
      "cell_type": "code",
      "metadata": {
        "id": "um4wsztKQSSx",
        "colab": {
          "base_uri": "https://localhost:8080/"
        },
        "outputId": "04fefcd6-1845-451b-87f4-ffb3fee6a4ab"
      },
      "source": [
        "# Print out the first 5 rows of data\n",
        "for row in data[1:6]:\n",
        "  print(row)"
      ],
      "execution_count": null,
      "outputs": [
        {
          "output_type": "stream",
          "name": "stdout",
          "text": [
            "['1.943859273', '55.41357113', '2206.680582']\n",
            "['2.258228944', '59.54630512', '2486.474488']\n",
            "['2.215862783', '57.41468676', '2405.868337']\n",
            "['1.977959542', '49.90835272', '2140.434475']\n",
            "['2.437722808', '52.03549192', '2411.275663']\n"
          ]
        }
      ]
    }
  ]
}
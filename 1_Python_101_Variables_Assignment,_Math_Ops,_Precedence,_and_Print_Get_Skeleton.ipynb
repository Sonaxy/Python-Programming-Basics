{
  "nbformat": 4,
  "nbformat_minor": 0,
  "metadata": {
    "colab": {
      "provenance": [],
      "include_colab_link": true
    },
    "kernelspec": {
      "name": "python3",
      "display_name": "Python 3"
    }
  },
  "cells": [
    {
      "cell_type": "markdown",
      "metadata": {
        "id": "view-in-github",
        "colab_type": "text"
      },
      "source": [
        "<a href=\"https://colab.research.google.com/github/Sonaxy/Python-Programming-Basics/blob/main/1_Python_101_Variables_Assignment%2C_Math_Ops%2C_Precedence%2C_and_Print_Get_Skeleton.ipynb\" target=\"_parent\"><img src=\"https://colab.research.google.com/assets/colab-badge.svg\" alt=\"Open In Colab\"/></a>"
      ]
    },
    {
      "cell_type": "markdown",
      "metadata": {
        "id": "B1KBXIYhkuw5"
      },
      "source": [
        "# 1. VARIABLES ASSIGNMENT"
      ]
    },
    {
      "cell_type": "code",
      "metadata": {
        "id": "wsrqiWxMlQcd"
      },
      "source": [
        "# Define a variable named \"portfolio_1\" and assign a number (integer) to it\n",
        "portfolio_1 = 2000"
      ],
      "execution_count": null,
      "outputs": []
    },
    {
      "cell_type": "code",
      "metadata": {
        "id": "_7BUQ4lalVpE",
        "colab": {
          "base_uri": "https://localhost:8080/"
        },
        "outputId": "9c27d60d-4226-4f6a-a6c1-13f5553883e5"
      },
      "source": [
        "# Let's view \"portfolio_1\"\n",
        "portfolio_1"
      ],
      "execution_count": null,
      "outputs": [
        {
          "output_type": "execute_result",
          "data": {
            "text/plain": [
              "2000"
            ]
          },
          "metadata": {},
          "execution_count": 2
        }
      ]
    },
    {
      "cell_type": "code",
      "metadata": {
        "id": "5RLjbN6alXBn"
      },
      "source": [
        "# Define a variable named \"portfolio_2\" and assign a number (float) to it\n",
        "portfolio_2 = 159.12"
      ],
      "execution_count": null,
      "outputs": []
    },
    {
      "cell_type": "code",
      "metadata": {
        "id": "XaseHcnvlY7V",
        "colab": {
          "base_uri": "https://localhost:8080/"
        },
        "outputId": "b1ca117f-ba44-4e1b-8798-e48e23a1b5b1"
      },
      "source": [
        "# Let's view \"portfolio_2\"\n",
        "portfolio_2"
      ],
      "execution_count": null,
      "outputs": [
        {
          "output_type": "execute_result",
          "data": {
            "text/plain": [
              "159.12"
            ]
          },
          "metadata": {},
          "execution_count": 4
        }
      ]
    },
    {
      "cell_type": "code",
      "metadata": {
        "id": "1treMfL5phXx"
      },
      "source": [
        "# Let's overwrite \"portfolio_2\" (assume your portfolio value increased)\n",
        "portfolio_2 = portfolio_2 + 100"
      ],
      "execution_count": null,
      "outputs": []
    },
    {
      "cell_type": "code",
      "metadata": {
        "id": "QaBaDH0fp5cf",
        "colab": {
          "base_uri": "https://localhost:8080/"
        },
        "outputId": "560c28d9-5832-46a1-a115-44415603b90a"
      },
      "source": [
        "# Notice that \"portfolio_2\" will only contain the most recent value\n",
        "portfolio_2"
      ],
      "execution_count": null,
      "outputs": [
        {
          "output_type": "execute_result",
          "data": {
            "text/plain": [
              "259.12"
            ]
          },
          "metadata": {},
          "execution_count": 6
        }
      ]
    },
    {
      "cell_type": "code",
      "metadata": {
        "id": "fqZRkUkilb-5",
        "colab": {
          "base_uri": "https://localhost:8080/"
        },
        "outputId": "043ac9c0-ff05-44ea-c338-46e969177f17"
      },
      "source": [
        "# Get the type of \"portfolio_1\" which is integer\n",
        "# integer is a whole number (no decimals) that could be positive or negative\n",
        "type(portfolio_1)"
      ],
      "execution_count": null,
      "outputs": [
        {
          "output_type": "execute_result",
          "data": {
            "text/plain": [
              "int"
            ]
          },
          "metadata": {},
          "execution_count": 7
        }
      ]
    },
    {
      "cell_type": "code",
      "metadata": {
        "id": "T0Rszu5xlceK",
        "colab": {
          "base_uri": "https://localhost:8080/"
        },
        "outputId": "c06f4e6b-3955-455e-95fe-f910c771c37b"
      },
      "source": [
        "# Get the type of \"portfolio_2\" which is float\n",
        "# Float are real numbers with a decimal point dividing the integer and fractional parts\n",
        "type(portfolio_2)"
      ],
      "execution_count": null,
      "outputs": [
        {
          "output_type": "execute_result",
          "data": {
            "text/plain": [
              "float"
            ]
          },
          "metadata": {},
          "execution_count": 8
        }
      ]
    },
    {
      "cell_type": "markdown",
      "metadata": {
        "id": "75YN6NcVlv50"
      },
      "source": [
        "**MINI CHALLENGE #1:**\n",
        "- **We defined a variable AMZN (Ticker symbol for Amazon stock) and we assigned these 3 values listed below to it. Without executing any code cells, what will these lines of code generate?**\n",
        "- **Verify your answer by executing the code cells**\n",
        "\n",
        "\n",
        "\n",
        "```\n",
        "AMZN = 3324\n",
        "AMZN = 3400\n",
        "AMZN = 3530\n",
        "AMZN\n",
        "```\n"
      ]
    },
    {
      "cell_type": "code",
      "metadata": {
        "id": "AbXq1BsUpcpu",
        "colab": {
          "base_uri": "https://localhost:8080/"
        },
        "outputId": "3ab75393-a758-4648-f4d9-90348040a946"
      },
      "source": [
        "AMZN = 3324\n",
        "AMZN = 3400\n",
        "AMZN = 3530\n",
        "AMZN"
      ],
      "execution_count": null,
      "outputs": [
        {
          "output_type": "execute_result",
          "data": {
            "text/plain": [
              "3530"
            ]
          },
          "metadata": {},
          "execution_count": 9
        }
      ]
    },
    {
      "cell_type": "markdown",
      "metadata": {
        "id": "m-cJsnjeoFOa"
      },
      "source": [
        "**MINI CHALLENGE #2:**\n",
        "- **We defined a variable AAPL (Ticker symbol for Apple stock) and we assigned these 2 values listed below to it. Without executing any code cells, what will these lines of code generate?**\n",
        "- **Verify your answer by executing the code cells**\n",
        "\n",
        "\n",
        "\n",
        "```\n",
        "AAPL = 112\n",
        "AAPL = 115.3\n",
        "type(AAPL)\n",
        "```\n"
      ]
    },
    {
      "cell_type": "code",
      "metadata": {
        "id": "wjaFVDJ2oESl",
        "colab": {
          "base_uri": "https://localhost:8080/"
        },
        "outputId": "c96007a2-82f9-4f54-fe40-f55a6247db83"
      },
      "source": [
        "AAPL = 112\n",
        "AAPL = 115.3\n",
        "type(AAPL)"
      ],
      "execution_count": null,
      "outputs": [
        {
          "output_type": "execute_result",
          "data": {
            "text/plain": [
              "float"
            ]
          },
          "metadata": {},
          "execution_count": 10
        }
      ]
    },
    {
      "cell_type": "markdown",
      "metadata": {
        "id": "lsCfJJEkkqGQ"
      },
      "source": [
        "# 2. MATH OPERATIONS"
      ]
    },
    {
      "cell_type": "code",
      "metadata": {
        "id": "vxspxvj2qTrx",
        "colab": {
          "base_uri": "https://localhost:8080/"
        },
        "outputId": "46b6803e-452a-4cb3-d64a-5dd641762cc4"
      },
      "source": [
        "# Define a variable named AAPL and initialize it with 5 indicating that we own 5 stocks\n",
        "# Let's assume that we bought an additional stock so now we have 6 stocks instead of 5\n",
        "# We can increment AAPL by 1 stock as follows:\n",
        "AAPL = 5\n",
        "AAPL = AAPL + 1\n",
        "AAPL"
      ],
      "execution_count": null,
      "outputs": [
        {
          "output_type": "execute_result",
          "data": {
            "text/plain": [
              "6"
            ]
          },
          "metadata": {},
          "execution_count": 12
        }
      ]
    },
    {
      "cell_type": "code",
      "metadata": {
        "id": "ouiM4Bjar5aG",
        "colab": {
          "base_uri": "https://localhost:8080/"
        },
        "outputId": "902fd2db-e5b4-4c12-e484-40cbee9eab6d"
      },
      "source": [
        "# Alternatively, we can increment the variable AAPL by 1 as follows:\n",
        "AAPL = 5\n",
        "AAPL +=1\n",
        "AAPL"
      ],
      "execution_count": null,
      "outputs": [
        {
          "output_type": "execute_result",
          "data": {
            "text/plain": [
              "6"
            ]
          },
          "metadata": {},
          "execution_count": 13
        }
      ]
    },
    {
      "cell_type": "code",
      "metadata": {
        "id": "zkO001-qcZc3",
        "colab": {
          "base_uri": "https://localhost:8080/"
        },
        "outputId": "5b0f5dc0-275f-42f3-f9ad-e20c20686364"
      },
      "source": [
        "# Let's assume that the price of AAPL stock is $260 and we currently have 5 AAPL stocks in our portfolio\n",
        "# We can calculate the total portfolio value (account balance) as follows:\n",
        "AAPL_Stock = 5\n",
        "AAPL_Price = 260\n",
        "AAPL_Portfolio = AAPL_Stock * AAPL_Price\n",
        "AAPL_Portfolio"
      ],
      "execution_count": null,
      "outputs": [
        {
          "output_type": "execute_result",
          "data": {
            "text/plain": [
              "1300"
            ]
          },
          "metadata": {},
          "execution_count": 14
        }
      ]
    },
    {
      "cell_type": "code",
      "metadata": {
        "id": "4bXP93aqejr1",
        "colab": {
          "base_uri": "https://localhost:8080/"
        },
        "outputId": "87672eb5-2dd8-43e1-ac0e-bb64adbcdd57"
      },
      "source": [
        "# Let's assume you have $20000 USD in our account\n",
        "# We want to buy AMZN stocks using the total amount\n",
        "# AMZN stock is priced at $3116 each\n",
        "\n",
        "balance = 20000\n",
        "AMZN_Price = 3116\n"
      ],
      "execution_count": null,
      "outputs": [
        {
          "output_type": "execute_result",
          "data": {
            "text/plain": [
              "6.418485237483954"
            ]
          },
          "metadata": {},
          "execution_count": 15
        }
      ]
    },
    {
      "cell_type": "code",
      "metadata": {
        "id": "Mc569vLOqxzg",
        "colab": {
          "base_uri": "https://localhost:8080/"
        },
        "outputId": "56cb0498-0e92-472f-94df-e6a42d4573dd"
      },
      "source": [
        "# Divide the account balance by Amazon stock price and place the answer in units\n",
        "AMZN_Stock = balance/AMZN_Price\n",
        "AMZN_Stock"
      ],
      "execution_count": null,
      "outputs": [
        {
          "output_type": "execute_result",
          "data": {
            "text/plain": [
              "6.418485237483954"
            ]
          },
          "metadata": {},
          "execution_count": 16
        }
      ]
    },
    {
      "cell_type": "markdown",
      "metadata": {
        "id": "8UaT7FRdNnCQ"
      },
      "source": [
        "**MINI CHALLENGE #3:**\n",
        "- **Write a code that calculates the total value of a portfolio assuming that you own 15 Google stocks (Sticker Symbol: GOOG) priced at 1500 each**\n"
      ]
    },
    {
      "cell_type": "code",
      "metadata": {
        "id": "qMFnXorONnoa",
        "colab": {
          "base_uri": "https://localhost:8080/"
        },
        "outputId": "e0035c9c-9380-411c-abd2-683fcef6c2fa"
      },
      "source": [
        "GOOG_Stock = 15\n",
        "GOOG_price = 1500\n",
        "GOOG_portfolio = GOOG_Stock * GOOG_price\n",
        "GOOG_portfolio"
      ],
      "execution_count": null,
      "outputs": [
        {
          "output_type": "execute_result",
          "data": {
            "text/plain": [
              "22500"
            ]
          },
          "metadata": {},
          "execution_count": 17
        }
      ]
    },
    {
      "cell_type": "markdown",
      "metadata": {
        "id": "iB_6pgJeNnCV"
      },
      "source": [
        "**MINI CHALLENGE #4:**\n",
        "- **Write a code that takes in Google (GOOG) stock prices at two days and calculate the return:**\n",
        "  - **GOOG price on day 1 = \\$260**\n",
        "  - **GOOG price on day 2 = \\$280**"
      ]
    },
    {
      "cell_type": "code",
      "source": [
        "GOOG_price_1 = 260\n",
        "GOOG_price_2 = 280\n",
        "\n",
        "price_diff = GOOG_price_2 - GOOG_price_1\n",
        "price_diff"
      ],
      "metadata": {
        "colab": {
          "base_uri": "https://localhost:8080/"
        },
        "id": "NwU6lSMYpZxn",
        "outputId": "47b1c123-09d0-4b7c-89c9-5d95b2c33e0a"
      },
      "execution_count": null,
      "outputs": [
        {
          "output_type": "execute_result",
          "data": {
            "text/plain": [
              "20"
            ]
          },
          "metadata": {},
          "execution_count": 19
        }
      ]
    },
    {
      "cell_type": "code",
      "source": [
        "percentage_change = (price_diff/GOOG_price_1) * 100\n",
        "percentage_change"
      ],
      "metadata": {
        "colab": {
          "base_uri": "https://localhost:8080/"
        },
        "id": "OxuOoZBwp2hl",
        "outputId": "596fe987-b31a-43e3-8122-fe4fdaa2aa95"
      },
      "execution_count": null,
      "outputs": [
        {
          "output_type": "execute_result",
          "data": {
            "text/plain": [
              "7.6923076923076925"
            ]
          },
          "metadata": {},
          "execution_count": 20
        }
      ]
    },
    {
      "cell_type": "markdown",
      "metadata": {
        "id": "b_4wxmCklMQE"
      },
      "source": [
        "# 3. ORDER OF OPERATIONS (PRECEDENCE)"
      ]
    },
    {
      "cell_type": "code",
      "metadata": {
        "id": "PDPpISzEkov3",
        "colab": {
          "base_uri": "https://localhost:8080/"
        },
        "outputId": "5c08829f-aadb-48a2-a0ba-79eb940f5359"
      },
      "source": [
        "# add 3 and 4 and then multiply the answer by 5\n",
        "# Note that parantheses have the highest precedence\n",
        "(3 + 4)*5"
      ],
      "execution_count": null,
      "outputs": [
        {
          "output_type": "execute_result",
          "data": {
            "text/plain": [
              "35"
            ]
          },
          "metadata": {},
          "execution_count": 21
        }
      ]
    },
    {
      "cell_type": "code",
      "metadata": {
        "id": "lqvGyX4psG6L"
      },
      "source": [
        "# Multiplication has higher precedence compared to addition\n"
      ],
      "execution_count": null,
      "outputs": []
    },
    {
      "cell_type": "code",
      "metadata": {
        "id": "Nx2IPN34sI0A"
      },
      "source": [
        "# Division has higher precedence compared to addition\n"
      ],
      "execution_count": null,
      "outputs": []
    },
    {
      "cell_type": "code",
      "metadata": {
        "id": "A-sBw_wsdRTc"
      },
      "source": [],
      "execution_count": null,
      "outputs": []
    },
    {
      "cell_type": "markdown",
      "metadata": {
        "id": "LD0jeVJddRrf"
      },
      "source": [
        "**MINI CHALLENGE #5:**\n",
        "- **Assume that you own 15 shares of AAPL stock priced at \\$150 a share. Apple announced the launch of 5 new products with exceptional features so the stock price increased to $170 a share. Calculate the total profit.**\n",
        "\n",
        "\n",
        "\n",
        "\n"
      ]
    },
    {
      "cell_type": "code",
      "metadata": {
        "id": "ieENt2DUNwDC",
        "colab": {
          "base_uri": "https://localhost:8080/"
        },
        "outputId": "4f4f0071-f96a-4ce2-9997-cdf0b774b604"
      },
      "source": [
        "AAPL_Stock = 15\n",
        "AAPL_Price_1 = 150\n",
        "AAPL_Price_2 = 170\n",
        "\n",
        "Profit = (AAPL_Price_2 - AAPL_Price_1) * AAPL_Stock\n",
        "Profit"
      ],
      "execution_count": null,
      "outputs": [
        {
          "output_type": "execute_result",
          "data": {
            "text/plain": [
              "300"
            ]
          },
          "metadata": {},
          "execution_count": 22
        }
      ]
    },
    {
      "cell_type": "markdown",
      "metadata": {
        "id": "s79S7MtycPGX"
      },
      "source": [
        "**MINI CHALLENGE #6:**\n",
        "- **Write a code that performs the following mathematical operation: z = |x − y| * (x + y)**"
      ]
    },
    {
      "cell_type": "code",
      "metadata": {
        "id": "yGVvKkDKc0LR",
        "colab": {
          "base_uri": "https://localhost:8080/"
        },
        "outputId": "ca7da102-089a-4d06-c9a5-be03645e960f"
      },
      "source": [
        "x = 4\n",
        "y = 5\n",
        "z = (abs(x - y)) * (x+y)\n",
        "z"
      ],
      "execution_count": null,
      "outputs": [
        {
          "output_type": "execute_result",
          "data": {
            "text/plain": [
              "9"
            ]
          },
          "metadata": {},
          "execution_count": 23
        }
      ]
    },
    {
      "cell_type": "markdown",
      "metadata": {
        "id": "Jvxd_A696qnl"
      },
      "source": [
        "# 4. PRINT OPERATION"
      ]
    },
    {
      "cell_type": "code",
      "metadata": {
        "id": "74NV4Ix36wE2",
        "colab": {
          "base_uri": "https://localhost:8080/",
          "height": 35
        },
        "outputId": "24f3f4c3-67b4-460e-c627-883e11df180c"
      },
      "source": [
        "# Print function is used to print elements on the screen\n",
        "# Define a string x\n",
        "# A string in Python is a sequence of characters\n",
        "# String in python are surrounded by single or double quotation marks\n",
        "x = 'Python'\n",
        "x"
      ],
      "execution_count": null,
      "outputs": [
        {
          "output_type": "execute_result",
          "data": {
            "text/plain": [
              "'Python'"
            ],
            "application/vnd.google.colaboratory.intrinsic+json": {
              "type": "string"
            }
          },
          "metadata": {},
          "execution_count": 24
        }
      ]
    },
    {
      "cell_type": "code",
      "metadata": {
        "id": "08UQhKoR8d3H",
        "colab": {
          "base_uri": "https://localhost:8080/"
        },
        "outputId": "7bd860cb-6b1c-4744-f04f-ba340873e50b"
      },
      "source": [
        "# Obtain the data type for 'x'\n",
        "type(x)"
      ],
      "execution_count": null,
      "outputs": [
        {
          "output_type": "execute_result",
          "data": {
            "text/plain": [
              "str"
            ]
          },
          "metadata": {},
          "execution_count": 25
        }
      ]
    },
    {
      "cell_type": "code",
      "metadata": {
        "id": "1nHBcL7D61YQ",
        "colab": {
          "base_uri": "https://localhost:8080/"
        },
        "outputId": "e3f16157-3470-4cf4-8591-2cd839c10576"
      },
      "source": [
        "# Print x\n",
        "print(x)"
      ],
      "execution_count": null,
      "outputs": [
        {
          "output_type": "stream",
          "name": "stdout",
          "text": [
            "Python\n"
          ]
        }
      ]
    },
    {
      "cell_type": "code",
      "metadata": {
        "id": "7JUqe3DF7WQv"
      },
      "source": [
        "# Define a string and put 'Apple Inc.' in it\n",
        "y = 'Apple Inc.'"
      ],
      "execution_count": null,
      "outputs": []
    },
    {
      "cell_type": "code",
      "metadata": {
        "id": "J_r5_BGt7Wsg",
        "colab": {
          "base_uri": "https://localhost:8080/"
        },
        "outputId": "6cc9421f-af86-4e8f-ec91-72903eab802d"
      },
      "source": [
        "# The format() method formats the specified value and insert it in the placeholder.\n",
        "# The placeholder is defined using curly braces: {}\n",
        "print('Ticker name for {} is AAPL'.format(y))"
      ],
      "execution_count": null,
      "outputs": [
        {
          "output_type": "stream",
          "name": "stdout",
          "text": [
            "Ticker name for Apple Inc. is AAPL\n"
          ]
        }
      ]
    },
    {
      "cell_type": "code",
      "metadata": {
        "id": "cn5wkGcL7Wqs"
      },
      "source": [
        "shares = 30"
      ],
      "execution_count": null,
      "outputs": []
    },
    {
      "cell_type": "code",
      "metadata": {
        "id": "mcIEXuw47Wpk",
        "colab": {
          "base_uri": "https://localhost:8080/"
        },
        "outputId": "9500a3e6-7397-4269-9112-13690520d8cb"
      },
      "source": [
        "# You can place two or more placeholders with print function\n",
        "print('I own {} shares of {}'.format(shares,y))"
      ],
      "execution_count": null,
      "outputs": [
        {
          "output_type": "stream",
          "name": "stdout",
          "text": [
            "I own 30 shares of Apple Inc.\n"
          ]
        }
      ]
    },
    {
      "cell_type": "markdown",
      "metadata": {
        "id": "__Ybj8rmGKpY"
      },
      "source": [
        "**MINI CHALLENGE #7:**\n",
        "- **Write a code that print out the above statement along with AAPL ticker**\n",
        "- **i.e.: I own 30 shares of Apple Inc.(AAPL)**"
      ]
    },
    {
      "cell_type": "code",
      "metadata": {
        "id": "i6LmOCF6Gd6G",
        "colab": {
          "base_uri": "https://localhost:8080/"
        },
        "outputId": "8904a2dd-dfca-4266-b05e-fea7cb895971"
      },
      "source": [
        "ticker = 'AAPL'\n",
        "print('I own {} shares of {}({})'.format(shares,y,ticker))"
      ],
      "execution_count": null,
      "outputs": [
        {
          "output_type": "stream",
          "name": "stdout",
          "text": [
            "I own 30 shares of Apple Inc.(AAPL)\n"
          ]
        }
      ]
    },
    {
      "cell_type": "markdown",
      "metadata": {
        "id": "hp9P-qXN-Gll"
      },
      "source": [
        "# 5. GET USER INPUT"
      ]
    },
    {
      "cell_type": "code",
      "metadata": {
        "id": "FFghOQVi7Wh_",
        "colab": {
          "base_uri": "https://localhost:8080/"
        },
        "outputId": "78d5f521-b9bf-4253-ae21-378686bc1cb7"
      },
      "source": [
        "# input is a built-in function in python\n",
        "# Get bank client name as an input and print it out on the screen\n",
        "clientname = input(\"Welcome to the bank, your name please: \")"
      ],
      "execution_count": 2,
      "outputs": [
        {
          "name": "stdout",
          "output_type": "stream",
          "text": [
            "Welcome to the bank, your name please: XYZ\n"
          ]
        }
      ]
    },
    {
      "cell_type": "code",
      "source": [
        "clientname"
      ],
      "metadata": {
        "colab": {
          "base_uri": "https://localhost:8080/",
          "height": 35
        },
        "id": "aRiUh4qu6wuO",
        "outputId": "a52f27b6-49a4-4d72-ee13-c0dc90c240f5"
      },
      "execution_count": 3,
      "outputs": [
        {
          "output_type": "execute_result",
          "data": {
            "text/plain": [
              "'XYZ'"
            ],
            "application/vnd.google.colaboratory.intrinsic+json": {
              "type": "string"
            }
          },
          "metadata": {},
          "execution_count": 3
        }
      ]
    },
    {
      "cell_type": "code",
      "metadata": {
        "id": "u4D5GDGP7Wgm",
        "colab": {
          "base_uri": "https://localhost:8080/"
        },
        "outputId": "4bf3acf6-4548-4a5e-ea79-e88eafe959c3"
      },
      "source": [
        "# Obtain bank client data such as name, age and assets and print them all out on the screen\n",
        "print('Welcome to The Bank')\n",
        "clientname = input(\"Please enter your name: \")\n",
        "age = input(\"Please enter your age: \")\n",
        "assets = input(\"Please enter your networth: \")\n",
        "\n",
        "print(\"My name is {}. I am {} years old. And my current networth is {}\".format(clientname,age,assets))"
      ],
      "execution_count": 4,
      "outputs": [
        {
          "output_type": "stream",
          "name": "stdout",
          "text": [
            "Welcome to The Bank\n",
            "Please enter your name: Sonaxy Mohanty\n",
            "Please enter your age: 31\n",
            "Please enter your networth: 4000\n",
            "My name is Sonaxy Mohanty. I am 31 years old. And my current networth is 4000\n"
          ]
        }
      ]
    },
    {
      "cell_type": "code",
      "metadata": {
        "id": "W6hQp4YP7Wdr"
      },
      "source": [
        "# Obtain user inputs, perform mathematical operation, and print the results\n",
        "# Note: Are you getting an error? Move to the next code cell\n",
        "x = input('Enter price of AAPL stock today: ')\n",
        "y = input('Enter the #stocks you want to buy: ')\n",
        "\n",
        "print('Total funds required to buy {} shares of AAPL stock at ${} each is {}'.format(y,x,x*y))"
      ],
      "execution_count": null,
      "outputs": []
    },
    {
      "cell_type": "code",
      "metadata": {
        "id": "abPg-86q7Waq",
        "colab": {
          "base_uri": "https://localhost:8080/"
        },
        "outputId": "390c05d3-f526-4116-97a1-37aa45829d7c"
      },
      "source": [
        "# Convert from string datatype to integer datatype prior to performing addition\n",
        "x = input('Enter price of AAPL stock today: ')\n",
        "x = int(x)\n",
        "y = input('Enter the #stocks you want to buy: ')\n",
        "y = int(y)\n",
        "\n",
        "print('Total funds required to buy {} shares of AAPL stock at ${} each is ${}'.format(y,x,x*y))"
      ],
      "execution_count": 6,
      "outputs": [
        {
          "output_type": "stream",
          "name": "stdout",
          "text": [
            "Enter price of AAPL stock today: 200\n",
            "Enter the #stocks you want to buy: 30\n",
            "Total funds required to buy 30 shares of AAPL stock at $200 each is $6000\n"
          ]
        }
      ]
    },
    {
      "cell_type": "markdown",
      "metadata": {
        "id": "L8v5D4y1CIUQ"
      },
      "source": [
        "**MINI CHALLENGE #8:**\n",
        "- **Write a code that takes in the name of the stock, price at which it is selling, the number of stocks that you want to own and prints out the total funds required to buy this stock. Find a sample expected output below:**\n",
        "\n",
        "  - Enter the price of the stock you want to buy: 3000  \n",
        "  - Enter the number of stocks that you want to buy: 5\n",
        "  - Enter the name of the stock that you want to buy: AMZN\n",
        "  - The total funds required to buy 5 number of AMZN stocks at 3000 is 15000\n"
      ]
    },
    {
      "cell_type": "code",
      "source": [
        "name = input('Enter the name of the stock you want to own: ')\n",
        "price = input('Enter the price at which the stock is selling: ')\n",
        "price = int(price)\n",
        "stocks = input('Enter the number of stocks that you want to own: ')\n",
        "stocks = int(stocks)\n",
        "\n",
        "print('Total funds required to buy {} stocks of {} at ${} each is ${}'.format(stocks,name,price,stocks*price))"
      ],
      "metadata": {
        "colab": {
          "base_uri": "https://localhost:8080/"
        },
        "id": "urIOw-wT-cow",
        "outputId": "e46552ae-afa1-431e-fc2b-3a70d45b0121"
      },
      "execution_count": 9,
      "outputs": [
        {
          "output_type": "stream",
          "name": "stdout",
          "text": [
            "Enter the name of the stock you want to own: GOOG\n",
            "Enter the price at which the stock is selling: 300\n",
            "Enter the number of stocks that you want to own: 30\n",
            "Total funds required to buy 30 stocks of GOOG at $300 each is $9000\n"
          ]
        }
      ]
    },
    {
      "cell_type": "markdown",
      "metadata": {
        "id": "Jm-0XhPntGtK"
      },
      "source": [
        "# EXCELLENT JOB"
      ]
    },
    {
      "cell_type": "markdown",
      "metadata": {
        "id": "_wuaDbzWm-i8"
      },
      "source": [
        "# MINI CHALLENGES SOLUTIONS"
      ]
    },
    {
      "cell_type": "markdown",
      "metadata": {
        "id": "Xq-Y8OW0nG8O"
      },
      "source": [
        "**MINI CHALLENGE #1:**\n",
        "- **We defined a variable AMZN (Ticker symbol for Amazon stock) and we assigned these 3 values listed below to it. Without executing any code cells, what will these lines of code generate?**\n",
        "- **Verify your answer by executing the code cells**\n",
        "\n",
        "\n",
        "\n",
        "```\n",
        "AMZN = 3324\n",
        "AMZN = 3400\n",
        "AMZN = 3530\n",
        "AMZN\n",
        "```\n"
      ]
    },
    {
      "cell_type": "code",
      "metadata": {
        "id": "R_CHNPWbnAf0"
      },
      "source": [
        "# The output of this code is 3530\n",
        "# Initially we put 3324 in AMZN, then we overwrite it by placing 3400 in AMZN, and then 3530 in AMZN\n",
        "AMZN = 3324\n",
        "AMZN = 3400\n",
        "AMZN = 3530\n",
        "AMZN"
      ],
      "execution_count": null,
      "outputs": []
    },
    {
      "cell_type": "markdown",
      "metadata": {
        "id": "0tFG_HiJoWiM"
      },
      "source": [
        "**MINI CHALLENGE #2:**\n",
        "- **We defined a variable AAPL (Ticker symbol for Apple stock) and we assigned these 2 values listed below to it. Without executing any code cells, what will these lines of code generate?**\n",
        "- **Verify your answer by executing the code cells**\n",
        "\n",
        "\n",
        "\n",
        "```\n",
        "AAPL = 112\n",
        "AAPL = 115.3\n",
        "type(AAPL)\n",
        "```"
      ]
    },
    {
      "cell_type": "code",
      "metadata": {
        "id": "p449NLcAnCbu"
      },
      "source": [
        "AAPL = 112\n",
        "AAPL = 115.3\n",
        "type(AAPL)"
      ],
      "execution_count": null,
      "outputs": []
    },
    {
      "cell_type": "markdown",
      "metadata": {
        "id": "ayH1UnrYYokG"
      },
      "source": [
        "**MINI CHALLENGE #3 SOLUTION:**\n",
        "- **Write a code that calculates the total value of a portfolio assuming that you own 15 Google stocks (Sticker Symbol: GOOG) priced at 1500 each**\n"
      ]
    },
    {
      "cell_type": "code",
      "metadata": {
        "id": "6XGSaa4uoZgs"
      },
      "source": [
        "price  = 1500\n",
        "x  = 15\n",
        "amount = x * price\n",
        "amount"
      ],
      "execution_count": null,
      "outputs": []
    },
    {
      "cell_type": "markdown",
      "metadata": {
        "id": "kfyhdekfaUnr"
      },
      "source": [
        "**MINI CHALLENGE #4 SOLUTION:**\n",
        "- **Write a code that takes in Google (GOOG) stock prices at two days and calculate the return:**\n",
        "  - **GOOG price on day 1 = \\$260**\n",
        "  - **GOOG price on day 2 = \\$280**"
      ]
    },
    {
      "cell_type": "code",
      "metadata": {
        "id": "SUdMEr51Y0cR"
      },
      "source": [
        "GOOG_price_1 = 260\n",
        "GOOG_price_2 = 280\n",
        "\n",
        "price_diff = GOOG_price_2 - GOOG_price_1\n",
        "percentage_change = price_diff / GOOG_price_1 * 100\n",
        "\n",
        "percentage_change"
      ],
      "execution_count": null,
      "outputs": []
    },
    {
      "cell_type": "markdown",
      "metadata": {
        "id": "fSJnUnEvdv3T"
      },
      "source": [
        "**MINI CHALLENGE #5 SOLUTION:**\n",
        "- **Assume that you own 15 shares of AAPL stock priced at \\$150 a share. Apple announced the launch of 5 new products with exceptional features so the stock price increased to $170 a share. Calculate the total profit.**\n"
      ]
    },
    {
      "cell_type": "code",
      "metadata": {
        "id": "xf-UX5aFd11W"
      },
      "source": [
        "AAPL_new = 170\n",
        "AAPL_old = 150\n",
        "num_shares = 15\n",
        "profit = (AAPL_new - AAPL_old) * num_shares\n",
        "profit"
      ],
      "execution_count": null,
      "outputs": []
    },
    {
      "cell_type": "markdown",
      "metadata": {
        "id": "z0zgdSWqc2oa"
      },
      "source": [
        "**MINI CHALLENGE #6 SOLUTION:**\n",
        "- **Write a code that performs the following mathematical operation: z = |x − y| * (x + y)**"
      ]
    },
    {
      "cell_type": "code",
      "metadata": {
        "id": "zILwh7ILc4kq"
      },
      "source": [
        "x = 4\n",
        "y = 2\n",
        "z = abs(x-y) * (x+y)"
      ],
      "execution_count": null,
      "outputs": []
    },
    {
      "cell_type": "markdown",
      "metadata": {
        "id": "GSto5juvGlGM"
      },
      "source": [
        "**MINI CHALLENGE #7 SOLUTION:**\n",
        "- **Write a code that print out the above statement along with AAPL ticker**\n",
        "- **i.e.: I own 30 shares of Apple Inc.(AAPL)**"
      ]
    },
    {
      "cell_type": "code",
      "metadata": {
        "id": "6YfhUSPhGn46"
      },
      "source": [
        "ticker = 'AAPL'\n",
        "print(\"I own {} shares of {}({})\".format(shares, company_name, ticker))"
      ],
      "execution_count": null,
      "outputs": []
    },
    {
      "cell_type": "markdown",
      "metadata": {
        "id": "iKU27yueFUoI"
      },
      "source": [
        "**MINI CHALLENGE #8 SOLUTION:**\n",
        "- **Write a code that takes in the name of the stock, price at which it is selling, the number of stocks that you want to own and prints out the total funds required to buy this stock. Find a sample expected output below:**\n",
        "\n",
        "  - Enter the price of the stock you want to buy: 3000  \n",
        "  - Enter the number of stocks that you want to buy: 5\n",
        "  - Enter the name of the stock that you want to buy: AMZN\n",
        "  - The total funds required to buy 5 number of AMZN stocks at 3000 is 15000\n",
        "\n"
      ]
    },
    {
      "cell_type": "code",
      "metadata": {
        "id": "YsOyGpwiFWDK"
      },
      "source": [
        "x = input(\"Enter the price of the stock you want to buy: \")\n",
        "x = int(x)\n",
        "y = input(\"Enter the number of stocks that you want to buy: \")\n",
        "y = int(y)\n",
        "z = input(\"Enter the name of the stock that you want to buy: \")\n",
        "print('The total funds required to buy {} number of {} stocks at {} is {}'.format(y,z,x, x*y))"
      ],
      "execution_count": null,
      "outputs": []
    },
    {
      "cell_type": "code",
      "metadata": {
        "id": "CDRHLx0Tah7T"
      },
      "source": [],
      "execution_count": null,
      "outputs": []
    }
  ]
}
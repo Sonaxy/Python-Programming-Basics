{
  "nbformat": 4,
  "nbformat_minor": 0,
  "metadata": {
    "colab": {
      "provenance": [],
      "include_colab_link": true
    },
    "kernelspec": {
      "name": "python3",
      "display_name": "Python 3"
    }
  },
  "cells": [
    {
      "cell_type": "markdown",
      "metadata": {
        "id": "view-in-github",
        "colab_type": "text"
      },
      "source": [
        "<a href=\"https://colab.research.google.com/github/Sonaxy/Python-Programming-Basics/blob/main/3_Comparison_LogicalOperators_ConditionalStatements.ipynb\" target=\"_parent\"><img src=\"https://colab.research.google.com/assets/colab-badge.svg\" alt=\"Open In Colab\"/></a>"
      ]
    },
    {
      "cell_type": "markdown",
      "metadata": {
        "id": "CV9YCHsGtAP5"
      },
      "source": [
        "# 1. COMPARISON OPERATORS\n"
      ]
    },
    {
      "cell_type": "code",
      "metadata": {
        "id": "o9VtOcrKtCc1",
        "colab": {
          "base_uri": "https://localhost:8080/"
        },
        "outputId": "7e860503-82f5-4099-e320-a4cafe5a1037"
      },
      "source": [
        "# Comparison Operator output could be \"True\" or \"False\"\n",
        "# Let's cover equal '==' comparison operator first\n",
        "# It's simply a question: \"Is stock_1_price equals stock_2_price or not?\"\n",
        "# \"True\" output means condition is satisfied\n",
        "# \"False\" output means Condition is not satisfied (condition is not true)\n",
        "\n",
        "stock1_price = 1000\n",
        "stock2_price = 1000\n",
        "stock1_price == stock2_price"
      ],
      "execution_count": null,
      "outputs": [
        {
          "output_type": "execute_result",
          "data": {
            "text/plain": [
              "True"
            ]
          },
          "metadata": {},
          "execution_count": 1
        }
      ]
    },
    {
      "cell_type": "code",
      "metadata": {
        "id": "l48NWuCztX5G",
        "colab": {
          "base_uri": "https://localhost:8080/"
        },
        "outputId": "82a8abfb-89ec-4025-e415-0556d6b022aa"
      },
      "source": [
        "# Greater than or equal operator '>='\n",
        "stock2_price = 500\n",
        "\n",
        "stock2_price >= stock1_price"
      ],
      "execution_count": null,
      "outputs": [
        {
          "output_type": "execute_result",
          "data": {
            "text/plain": [
              "False"
            ]
          },
          "metadata": {},
          "execution_count": 2
        }
      ]
    },
    {
      "cell_type": "code",
      "metadata": {
        "id": "RmUrcn31tY0_"
      },
      "source": [
        "# Note that '==' is a comparison operator\n",
        "# Note that '=' is used for variable assignment (put 10 in stock_1_price)\n"
      ],
      "execution_count": null,
      "outputs": []
    },
    {
      "cell_type": "code",
      "metadata": {
        "id": "TttdgxEPtY3z",
        "colab": {
          "base_uri": "https://localhost:8080/",
          "height": 34
        },
        "outputId": "8984162f-4bd4-4fab-a257-7ea05148b01c"
      },
      "source": [],
      "execution_count": null,
      "outputs": [
        {
          "output_type": "execute_result",
          "data": {
            "text/plain": [
              "10"
            ]
          },
          "metadata": {
            "tags": []
          },
          "execution_count": 9
        }
      ]
    },
    {
      "cell_type": "code",
      "metadata": {
        "id": "9fvPnQePtY9K",
        "colab": {
          "base_uri": "https://localhost:8080/"
        },
        "outputId": "e7a916f8-f044-4643-fea6-902c39991fc3"
      },
      "source": [
        "# Comparison operators work with strings as well\n",
        "'Finance' == 'Finance'"
      ],
      "execution_count": null,
      "outputs": [
        {
          "output_type": "execute_result",
          "data": {
            "text/plain": [
              "True"
            ]
          },
          "metadata": {},
          "execution_count": 5
        }
      ]
    },
    {
      "cell_type": "code",
      "metadata": {
        "id": "krIE9oTdtj-Q",
        "colab": {
          "base_uri": "https://localhost:8080/"
        },
        "outputId": "bb8dd9e4-9730-4dca-db80-3f3545939e73"
      },
      "source": [
        "# Both strings have to exactly match (lower case vs. upper case)\n",
        "'Finance' == 'finance'"
      ],
      "execution_count": null,
      "outputs": [
        {
          "output_type": "execute_result",
          "data": {
            "text/plain": [
              "False"
            ]
          },
          "metadata": {},
          "execution_count": 6
        }
      ]
    },
    {
      "cell_type": "code",
      "metadata": {
        "id": "WI6k596Xtlcc",
        "colab": {
          "base_uri": "https://localhost:8080/"
        },
        "outputId": "b2b93b41-4140-4a3d-98d4-3d820b79d909"
      },
      "source": [
        "# Not equal comparison operator '!='\n",
        "\n",
        "stock1_price != stock2_price"
      ],
      "execution_count": null,
      "outputs": [
        {
          "output_type": "execute_result",
          "data": {
            "text/plain": [
              "True"
            ]
          },
          "metadata": {},
          "execution_count": 7
        }
      ]
    },
    {
      "cell_type": "markdown",
      "metadata": {
        "id": "eNyKRJob4Xlo"
      },
      "source": [
        "**MINI CHALLENGE #1:**\n",
        "- **Without executing the code cell, What will this code generate?**\n",
        "\n",
        "```\n",
        "stock_1_price = 15\n",
        "stock_2_price = 10\n",
        "\n",
        "print(stock_1_price == stock_2_price)\n",
        "print(stock_1_price != stock_2_price)\n",
        "print(stock_1_price > stock_2_price)\n",
        "print(stock_1_price < stock_2_price)\n",
        "```\n"
      ]
    },
    {
      "cell_type": "code",
      "metadata": {
        "id": "-vRyMcIhlVPg",
        "colab": {
          "base_uri": "https://localhost:8080/"
        },
        "outputId": "4886f1b7-6724-451d-8d81-3171dc466414"
      },
      "source": [
        "stock_1_price = 15\n",
        "stock_2_price = 10\n",
        "\n",
        "print(stock_1_price == stock_2_price)\n",
        "print(stock_1_price != stock_2_price)\n",
        "print(stock_1_price > stock_2_price)\n",
        "print(stock_1_price < stock_2_price)"
      ],
      "execution_count": null,
      "outputs": [
        {
          "output_type": "stream",
          "name": "stdout",
          "text": [
            "False\n",
            "True\n",
            "True\n",
            "False\n"
          ]
        }
      ]
    },
    {
      "cell_type": "markdown",
      "metadata": {
        "id": "4ElLliXmvffI"
      },
      "source": [
        "# 2. LOGICAL OPERATORS"
      ]
    },
    {
      "cell_type": "code",
      "metadata": {
        "id": "DZ4lIrr9viXb",
        "colab": {
          "base_uri": "https://localhost:8080/"
        },
        "outputId": "6fd46b6b-9dbd-420b-bd3c-e7e94f7128b9"
      },
      "source": [
        "# For \"and\" logical operators, both arguments must be \"True\" in order for the output to be \"True\"\n",
        "# (Note that this is the only case in which the 'and' logical operator generates a True output)\n",
        "# 1 and 1 = 1\n",
        "True and True"
      ],
      "execution_count": null,
      "outputs": [
        {
          "output_type": "execute_result",
          "data": {
            "text/plain": [
              "True"
            ]
          },
          "metadata": {},
          "execution_count": 9
        }
      ]
    },
    {
      "cell_type": "code",
      "metadata": {
        "id": "tBllQqO2vxPe",
        "colab": {
          "base_uri": "https://localhost:8080/"
        },
        "outputId": "460cb8ab-77f2-426f-960f-13ac3bf3310e"
      },
      "source": [
        "# 0 and 1 = 0\n",
        "False and True"
      ],
      "execution_count": null,
      "outputs": [
        {
          "output_type": "execute_result",
          "data": {
            "text/plain": [
              "False"
            ]
          },
          "metadata": {},
          "execution_count": 10
        }
      ]
    },
    {
      "cell_type": "code",
      "metadata": {
        "id": "ebgLEPrQvy1h",
        "colab": {
          "base_uri": "https://localhost:8080/"
        },
        "outputId": "aec24ddf-2e53-4649-cb1d-698c8f7c02b8"
      },
      "source": [
        "# 0 and 0 = 0\n",
        "False and False"
      ],
      "execution_count": null,
      "outputs": [
        {
          "output_type": "execute_result",
          "data": {
            "text/plain": [
              "False"
            ]
          },
          "metadata": {},
          "execution_count": 11
        }
      ]
    },
    {
      "cell_type": "code",
      "metadata": {
        "id": "Y_FB6C6yvzqb",
        "colab": {
          "base_uri": "https://localhost:8080/"
        },
        "outputId": "4a1008f0-9677-45ef-9dca-3ab5e8cbcdea"
      },
      "source": [
        "# For \"or\" logical operators, if any one of the arguments is \"True\", the output will be \"True\"\n",
        "# 1 or 1 = 1\n",
        "True or True"
      ],
      "execution_count": null,
      "outputs": [
        {
          "output_type": "execute_result",
          "data": {
            "text/plain": [
              "True"
            ]
          },
          "metadata": {},
          "execution_count": 12
        }
      ]
    },
    {
      "cell_type": "code",
      "metadata": {
        "id": "kiy1MhGrvzu9",
        "colab": {
          "base_uri": "https://localhost:8080/"
        },
        "outputId": "f4fd606e-7c3e-426b-c2cc-eb7e58d77344"
      },
      "source": [
        "# 1 or 0 = 1\n",
        "True or False"
      ],
      "execution_count": null,
      "outputs": [
        {
          "output_type": "execute_result",
          "data": {
            "text/plain": [
              "True"
            ]
          },
          "metadata": {},
          "execution_count": 13
        }
      ]
    },
    {
      "cell_type": "code",
      "metadata": {
        "id": "S9Zo0wWovz2j",
        "colab": {
          "base_uri": "https://localhost:8080/"
        },
        "outputId": "685fb57b-87ee-41a3-bc38-4002f09590e3"
      },
      "source": [
        "# 0 or 1 = 1\n",
        "False or True"
      ],
      "execution_count": null,
      "outputs": [
        {
          "output_type": "execute_result",
          "data": {
            "text/plain": [
              "True"
            ]
          },
          "metadata": {},
          "execution_count": 14
        }
      ]
    },
    {
      "cell_type": "code",
      "metadata": {
        "id": "Tu1BB3FAvz8-",
        "colab": {
          "base_uri": "https://localhost:8080/"
        },
        "outputId": "4f7f8acb-6a62-4cda-d6a2-65c1fd9f3015"
      },
      "source": [
        "# 0 or 0 = 0 (Note that this is the only case in which the 'or' logical operator generates a False output)\n",
        "False or False"
      ],
      "execution_count": null,
      "outputs": [
        {
          "output_type": "execute_result",
          "data": {
            "text/plain": [
              "False"
            ]
          },
          "metadata": {},
          "execution_count": 15
        }
      ]
    },
    {
      "cell_type": "code",
      "metadata": {
        "id": "KC9ArCvsvz7J",
        "colab": {
          "base_uri": "https://localhost:8080/"
        },
        "outputId": "10c44d68-eeff-4928-ee7b-79fdde0d78ae"
      },
      "source": [
        " # True and False = False\n",
        "(10 > 3) and (9 == 3)"
      ],
      "execution_count": null,
      "outputs": [
        {
          "output_type": "execute_result",
          "data": {
            "text/plain": [
              "False"
            ]
          },
          "metadata": {},
          "execution_count": 17
        }
      ]
    },
    {
      "cell_type": "code",
      "metadata": {
        "id": "1kVyRF3Avz5V",
        "colab": {
          "base_uri": "https://localhost:8080/"
        },
        "outputId": "926e76d6-4d8f-42bd-e45c-35f4c7efedce"
      },
      "source": [
        "# True or False = True\n",
        "(9 > 3) or (12 == 10)"
      ],
      "execution_count": null,
      "outputs": [
        {
          "output_type": "execute_result",
          "data": {
            "text/plain": [
              "True"
            ]
          },
          "metadata": {},
          "execution_count": 18
        }
      ]
    },
    {
      "cell_type": "markdown",
      "metadata": {
        "id": "vjvXsd7ezN4y"
      },
      "source": [
        "**MINI CHALLENGE #2:**\n",
        "- **Without executing the code cell, What will these two lines of code generate?**\n",
        "\n",
        "```\n",
        "print('FINANCE'!='FINANCE' and (10 > 3) and (20 == 20))\n",
        "```\n",
        "\n",
        "```\n",
        "print('Finance'!='FINANCE' or (16 > 20) or (25 == 25))\n",
        "```\n"
      ]
    },
    {
      "cell_type": "code",
      "metadata": {
        "id": "4u7cWLq15VZt",
        "colab": {
          "base_uri": "https://localhost:8080/"
        },
        "outputId": "fd89a1ce-dc22-4b08-8b7a-d15f5ec11229"
      },
      "source": [
        "print('FINANCE'!='FINANCE' and (10 > 3) and (20 == 20))\n",
        "print('Finance'!='FINANCE' or (16 > 20) or (25 == 25))"
      ],
      "execution_count": null,
      "outputs": [
        {
          "output_type": "stream",
          "name": "stdout",
          "text": [
            "False\n",
            "True\n"
          ]
        }
      ]
    },
    {
      "cell_type": "markdown",
      "metadata": {
        "id": "GVMXs0iZ0xJp"
      },
      "source": [
        "**MINI CHALLENGE #3:**\n",
        "- **Without executing the code cell, What will these two lines of code generate?**\n",
        "\n",
        "```\n",
        "a = 5\n",
        "b = 3.5\n",
        "\n",
        "print(a == b or a != b)\n",
        "print(a == b and a != b)\n",
        "```\n",
        "\n"
      ]
    },
    {
      "cell_type": "code",
      "metadata": {
        "id": "xA9pXas-5WJB",
        "colab": {
          "base_uri": "https://localhost:8080/"
        },
        "outputId": "1863c086-e496-4bb5-9064-3a39a2ad027f"
      },
      "source": [
        "a = 5\n",
        "b = 3.5\n",
        "\n",
        "print(a == b or a != b)\n",
        "print(a == b and a != b)"
      ],
      "execution_count": null,
      "outputs": [
        {
          "output_type": "stream",
          "name": "stdout",
          "text": [
            "True\n",
            "False\n"
          ]
        }
      ]
    },
    {
      "cell_type": "markdown",
      "metadata": {
        "id": "STR2UADaxtHC"
      },
      "source": [
        "# 3. CONDITIONAL STATEMENTS"
      ]
    },
    {
      "cell_type": "markdown",
      "metadata": {
        "id": "owrJExRxX--G"
      },
      "source": [
        "- A simple if-else statement is written in Python as follows:\n",
        "\n",
        "```\n",
        "if condition:\n",
        "  statement #1\n",
        "else:\n",
        "  statement #2\n",
        "```\n",
        "\n",
        "- If the condition is true, execute the first indented statement\n",
        "- if the condition is not true, then execute the else indented statements.\n",
        "- Note that Python uses indentation (whitespace) to indicate code sections and scope."
      ]
    },
    {
      "cell_type": "code",
      "metadata": {
        "id": "9iiHeyl_xvte",
        "colab": {
          "base_uri": "https://localhost:8080/"
        },
        "outputId": "bd92f85f-feb4-457e-d371-df2822812155"
      },
      "source": [
        "if 10>9:\n",
        "  print('If condition is True')\n",
        "else:\n",
        "  print('If condition is False')"
      ],
      "execution_count": null,
      "outputs": [
        {
          "output_type": "stream",
          "name": "stdout",
          "text": [
            "If condition is True\n"
          ]
        }
      ]
    },
    {
      "cell_type": "code",
      "metadata": {
        "id": "M05mmLIWxzCP",
        "colab": {
          "base_uri": "https://localhost:8080/"
        },
        "outputId": "21a4b718-0a66-499b-8d4a-73ca8479d191"
      },
      "source": [
        "if 5==10:\n",
        "  print('If condition is True')\n",
        "else:\n",
        "  print('If condition is False')"
      ],
      "execution_count": null,
      "outputs": [
        {
          "output_type": "stream",
          "name": "stdout",
          "text": [
            "If condition is False\n"
          ]
        }
      ]
    },
    {
      "cell_type": "code",
      "metadata": {
        "id": "4i8g3ORFxzFn",
        "colab": {
          "base_uri": "https://localhost:8080/"
        },
        "outputId": "b6a3e267-36f9-4e8e-e18d-602c5824d5ea"
      },
      "source": [
        "if 5==7:\n",
        "  print('First condition is True')\n",
        "elif 2==4:\n",
        "  print('Second condition is True')\n",
        "else:\n",
        "  print('Last condition is True')"
      ],
      "execution_count": null,
      "outputs": [
        {
          "output_type": "stream",
          "name": "stdout",
          "text": [
            "Last condition is True\n"
          ]
        }
      ]
    },
    {
      "cell_type": "code",
      "metadata": {
        "id": "qXCMo76Wxy95",
        "colab": {
          "base_uri": "https://localhost:8080/"
        },
        "outputId": "0abb1687-72d6-4f36-f6d2-0cd5711c116d"
      },
      "source": [
        "from IPython.core import inputtransformer2\n",
        "# Let's take an input from the user and grant or deny access accordingly\n",
        "role = input('Enter your role: ')\n",
        "\n",
        "if role == 'Data Scientist':\n",
        "  print('Access Granted')\n",
        "else:\n",
        "  print('{} do not have permission'.format(role))"
      ],
      "execution_count": null,
      "outputs": [
        {
          "output_type": "stream",
          "name": "stdout",
          "text": [
            "Enter your role:Data Scientist\n",
            "Access Granted\n"
          ]
        }
      ]
    },
    {
      "cell_type": "code",
      "metadata": {
        "id": "mgZaUUxhxy75",
        "colab": {
          "base_uri": "https://localhost:8080/"
        },
        "outputId": "84a919d8-fda6-4014-c07a-b717e5cd1692"
      },
      "source": [
        "# Let's make the code more robust (case insensitive)\n",
        "name = input('Enter your name: ')\n",
        "\n",
        "if name == 'Sonaxy' or name == 'SONAXY' or name == 'sonaxy':\n",
        "  print('Access Granted')\n",
        "else:\n",
        "  print('Access Denied')\n"
      ],
      "execution_count": null,
      "outputs": [
        {
          "output_type": "stream",
          "name": "stdout",
          "text": [
            "Enter your name: Sonaxy\n",
            "Access Granted\n"
          ]
        }
      ]
    },
    {
      "cell_type": "markdown",
      "metadata": {
        "id": "E9b_qCZ12Baz"
      },
      "source": [
        "**MINI CHALLENGE #4:**\n",
        "- **Write a code that takes a number from the user and indicates if it's positive or negative**"
      ]
    },
    {
      "cell_type": "code",
      "metadata": {
        "id": "I4-RpDvp2kHG",
        "colab": {
          "base_uri": "https://localhost:8080/"
        },
        "outputId": "b13b0033-d315-44a0-e07b-9443545b254a"
      },
      "source": [
        "number = input('Enter a number: ')\n",
        "number = int(number)\n",
        "\n",
        "if number>0:\n",
        "  print('Positive number')\n",
        "elif number == 0:\n",
        "  print('Zero')\n",
        "else:\n",
        "  print('Negative number')"
      ],
      "execution_count": null,
      "outputs": [
        {
          "output_type": "stream",
          "name": "stdout",
          "text": [
            "Enter a number: 0\n",
            "Zero\n"
          ]
        }
      ]
    },
    {
      "cell_type": "markdown",
      "metadata": {
        "id": "OnJwHMUe2Ztp"
      },
      "source": [
        "**MINI CHALLENGE #5:**\n",
        "- **Write a code that takes a number from the user and checks if the number is divisible by 3 but is not a multiple of 7**"
      ]
    },
    {
      "cell_type": "code",
      "metadata": {
        "id": "KHv409N93OjP",
        "colab": {
          "base_uri": "https://localhost:8080/"
        },
        "outputId": "2a45ab40-54ea-4f37-9d25-691416676fb4"
      },
      "source": [
        "number = input('Enter a number: ')\n",
        "number = int(number)\n",
        "\n",
        "if (number % 3 == 0) and (number % 7 != 0):\n",
        "  print('Requirements met')\n",
        "else:\n",
        "  print('Requirements not met')"
      ],
      "execution_count": null,
      "outputs": [
        {
          "output_type": "stream",
          "name": "stdout",
          "text": [
            "Enter a number: 21\n",
            "Requirements not met\n"
          ]
        }
      ]
    },
    {
      "cell_type": "markdown",
      "metadata": {
        "id": "bMs3OKSo29_D"
      },
      "source": [
        "**MINI CHALLENGE #6:**\n",
        "- **Write a code that takes a number from the user and indicate if the number is even or odd**"
      ]
    },
    {
      "cell_type": "code",
      "metadata": {
        "id": "RaDyZQqC28Ya",
        "colab": {
          "base_uri": "https://localhost:8080/"
        },
        "outputId": "0a0f8c39-834e-49b4-92a2-da1e1ebccdfc"
      },
      "source": [
        "number = input('Enter a number: ')\n",
        "number = int(number)\n",
        "\n",
        "if (number % 2 == 0):\n",
        "  print('{} is even'.format(number))\n",
        "else:\n",
        "  print('{} is odd'.format(number))"
      ],
      "execution_count": null,
      "outputs": [
        {
          "output_type": "stream",
          "name": "stdout",
          "text": [
            "Enter a number: 11\n",
            "11 is odd\n"
          ]
        }
      ]
    }
  ]
}
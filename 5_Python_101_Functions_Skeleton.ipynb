{
  "nbformat": 4,
  "nbformat_minor": 0,
  "metadata": {
    "colab": {
      "provenance": [],
      "include_colab_link": true
    },
    "kernelspec": {
      "name": "python3",
      "display_name": "Python 3"
    }
  },
  "cells": [
    {
      "cell_type": "markdown",
      "metadata": {
        "id": "view-in-github",
        "colab_type": "text"
      },
      "source": [
        "<a href=\"https://colab.research.google.com/github/Sonaxy/Python-Programming-Basics/blob/main/5_Python_101_Functions_Skeleton.ipynb\" target=\"_parent\"><img src=\"https://colab.research.google.com/assets/colab-badge.svg\" alt=\"Open In Colab\"/></a>"
      ]
    },
    {
      "cell_type": "markdown",
      "metadata": {
        "id": "2qdHbV6LKCdn"
      },
      "source": [
        "# 1. BUILT-IN FUNCTIONS"
      ]
    },
    {
      "cell_type": "code",
      "metadata": {
        "id": "e027nLRtKclL"
      },
      "source": [
        "# There are many built-in functions that you can leverage directly\n",
        "# Let's define 2 lists x and y\n",
        "x = [4, 5, 1, 2, 8, 5]\n",
        "y = list(range(1,7))"
      ],
      "execution_count": null,
      "outputs": []
    },
    {
      "cell_type": "code",
      "metadata": {
        "id": "B_q1ds-xKcnQ",
        "colab": {
          "base_uri": "https://localhost:8080/"
        },
        "outputId": "cbb00e5f-bc44-4ea1-d7b8-f38d05dbb84c"
      },
      "source": [
        "print(x)\n",
        "print(y)"
      ],
      "execution_count": null,
      "outputs": [
        {
          "output_type": "stream",
          "name": "stdout",
          "text": [
            "[4, 5, 1, 2, 8, 5]\n",
            "[1, 2, 3, 4, 5, 6]\n"
          ]
        }
      ]
    },
    {
      "cell_type": "code",
      "metadata": {
        "id": "sOb6YyohK3XA",
        "colab": {
          "base_uri": "https://localhost:8080/"
        },
        "outputId": "b3d2731b-e976-456d-9094-8434c9cc846b"
      },
      "source": [
        "# Let's obtain the length of y\n",
        "len(y)"
      ],
      "execution_count": null,
      "outputs": [
        {
          "output_type": "execute_result",
          "data": {
            "text/plain": [
              "6"
            ]
          },
          "metadata": {},
          "execution_count": 3
        }
      ]
    },
    {
      "cell_type": "code",
      "metadata": {
        "id": "E2d-scjBK3f_",
        "colab": {
          "base_uri": "https://localhost:8080/"
        },
        "outputId": "affdd5a8-5a3a-4dd4-c943-5c5eb78dc5f7"
      },
      "source": [
        "# Let's obtain the minimum value\n",
        "min(x)"
      ],
      "execution_count": null,
      "outputs": [
        {
          "output_type": "execute_result",
          "data": {
            "text/plain": [
              "1"
            ]
          },
          "metadata": {},
          "execution_count": 4
        }
      ]
    },
    {
      "cell_type": "code",
      "metadata": {
        "id": "MPcUuoY6K3id",
        "colab": {
          "base_uri": "https://localhost:8080/"
        },
        "outputId": "6b1d16a5-3eac-477a-bb98-8e2567d947ec"
      },
      "source": [
        "# Let's obtain the maximum value\n",
        "max(x)"
      ],
      "execution_count": null,
      "outputs": [
        {
          "output_type": "execute_result",
          "data": {
            "text/plain": [
              "8"
            ]
          },
          "metadata": {},
          "execution_count": 5
        }
      ]
    },
    {
      "cell_type": "code",
      "metadata": {
        "id": "oo4EvfwgK3nQ",
        "colab": {
          "base_uri": "https://localhost:8080/"
        },
        "outputId": "a13c086c-056f-44d9-f1cb-c048a7330a5b"
      },
      "source": [
        "# Let's create a tuple out of the list\n",
        "print(tuple(y))"
      ],
      "execution_count": null,
      "outputs": [
        {
          "output_type": "stream",
          "name": "stdout",
          "text": [
            "(1, 2, 3, 4, 5, 6)\n"
          ]
        }
      ]
    },
    {
      "cell_type": "code",
      "metadata": {
        "id": "NYVetBn-Kcpk",
        "colab": {
          "base_uri": "https://localhost:8080/"
        },
        "outputId": "20289236-58e4-4c91-b448-8474220a9148"
      },
      "source": [
        "# Let's obtain the sum of elements in x\n",
        "sum(x)"
      ],
      "execution_count": null,
      "outputs": [
        {
          "output_type": "execute_result",
          "data": {
            "text/plain": [
              "25"
            ]
          },
          "metadata": {},
          "execution_count": 7
        }
      ]
    },
    {
      "cell_type": "markdown",
      "metadata": {
        "id": "CvaYA-XocFOc"
      },
      "source": [
        "**MINI CHALLENGE #1:**\n",
        "- **Write a code that takes in 2 lists x = [-1 -4 -7] and y = [-3 7 4] and  calculates the absolute sum of all its elements |x+y|**\n"
      ]
    },
    {
      "cell_type": "code",
      "metadata": {
        "id": "DMYqI7CBekNI",
        "colab": {
          "base_uri": "https://localhost:8080/"
        },
        "outputId": "6ae6e335-8b5c-4a42-c80e-96540b4702ab"
      },
      "source": [
        "x = [-1, -4, -7]\n",
        "y = [-3, 7, 4]\n",
        "\n",
        "z = abs(sum(x+y))\n",
        "print(z)"
      ],
      "execution_count": null,
      "outputs": [
        {
          "output_type": "stream",
          "name": "stdout",
          "text": [
            "4\n"
          ]
        }
      ]
    },
    {
      "cell_type": "markdown",
      "metadata": {
        "id": "AHrwK11xMArY"
      },
      "source": [
        "# 2. FUNCTIONS"
      ]
    },
    {
      "cell_type": "code",
      "metadata": {
        "id": "LhhFvM60MGrX"
      },
      "source": [
        "# Let's define a function named \"my_function\" that does not receive any arguments\n",
        "# The function simply prints out content and does not return anything\n",
        "\n",
        "def my_function():\n",
        "  print('Hello World !')"
      ],
      "execution_count": null,
      "outputs": []
    },
    {
      "cell_type": "code",
      "metadata": {
        "id": "-jJdkGlGMGwE",
        "colab": {
          "base_uri": "https://localhost:8080/"
        },
        "outputId": "9c1be526-72a5-4771-f2f8-dce7aab067f6"
      },
      "source": [
        "# Function call\n",
        "my_function()"
      ],
      "execution_count": null,
      "outputs": [
        {
          "output_type": "stream",
          "name": "stdout",
          "text": [
            "Hello World !\n"
          ]
        }
      ]
    },
    {
      "cell_type": "code",
      "metadata": {
        "id": "OSVyOu91MGuW"
      },
      "source": [
        "# Define a function that takes in argument x and return the squared value\n",
        "def squared(x):\n",
        "  return x ** 2\n"
      ],
      "execution_count": null,
      "outputs": []
    },
    {
      "cell_type": "code",
      "metadata": {
        "id": "NVPrMz2_MPz1",
        "colab": {
          "base_uri": "https://localhost:8080/"
        },
        "outputId": "9ea9fff8-f6b2-4a37-b727-e804dce05823"
      },
      "source": [
        "# Call the function\n",
        "squared(2)"
      ],
      "execution_count": null,
      "outputs": [
        {
          "output_type": "execute_result",
          "data": {
            "text/plain": [
              "4"
            ]
          },
          "metadata": {},
          "execution_count": 4
        }
      ]
    },
    {
      "cell_type": "code",
      "metadata": {
        "id": "6ET-hFiSMPxi"
      },
      "source": [
        "# Define a function with default value\n",
        "\n",
        "def my_function(amount = 0.00):\n",
        "  print('My total portfolio worth is {}'.format(amount))"
      ],
      "execution_count": null,
      "outputs": []
    },
    {
      "cell_type": "code",
      "metadata": {
        "id": "-tiaDshNM48J",
        "colab": {
          "base_uri": "https://localhost:8080/"
        },
        "outputId": "51913067-7ccd-43f9-97de-d3dbdbe2a975"
      },
      "source": [
        "# If you pass an argument to the function, it overwrites the default value\n",
        "my_function(5000)\n",
        "# If you don't pass an argument, the default value \"20000\" will be used instead\n",
        "my_function()"
      ],
      "execution_count": null,
      "outputs": [
        {
          "output_type": "stream",
          "name": "stdout",
          "text": [
            "My total portfolio worth is 5000\n",
            "My total portfolio worth is 0.0\n"
          ]
        }
      ]
    },
    {
      "cell_type": "markdown",
      "metadata": {
        "id": "DB1zlBEEfDlA"
      },
      "source": [
        "**MINI CHALLENGE #2:**\n",
        "- **Write a code that takes in two inputs (number of shares and prices) from the user and calculate the total account balance**"
      ]
    },
    {
      "cell_type": "code",
      "metadata": {
        "id": "s7fbv5eApK97",
        "colab": {
          "base_uri": "https://localhost:8080/"
        },
        "outputId": "6a660185-cf31-4ea3-ce2f-ca21e9561c14"
      },
      "source": [
        "def portfolio(shares, prices):\n",
        "  total = shares * prices\n",
        "  return total\n",
        "\n",
        "\n",
        "shares = int(input('Enter no.of shares: '))\n",
        "prices = int(input('Enter each share price: '))\n",
        "portfolio(shares, prices)"
      ],
      "execution_count": null,
      "outputs": [
        {
          "name": "stdout",
          "output_type": "stream",
          "text": [
            "Enter no.of shares: 5\n",
            "Enter each share price: 1500\n"
          ]
        },
        {
          "output_type": "execute_result",
          "data": {
            "text/plain": [
              "7500"
            ]
          },
          "metadata": {},
          "execution_count": 9
        }
      ]
    },
    {
      "cell_type": "markdown",
      "metadata": {
        "id": "lBj4QkQEpLkX"
      },
      "source": [
        "# 3. LAMBDA EXPRESSIONS"
      ]
    },
    {
      "cell_type": "code",
      "metadata": {
        "id": "YtkjNLEypRTb"
      },
      "source": [
        "# Lambda function is used to create a function without a name\n",
        "# Lambda functions are mainly used with filter() and map() [they will be discussed later on].\n",
        "# Lambda function can receive any number of arguments, but can only have one expression."
      ],
      "execution_count": null,
      "outputs": []
    },
    {
      "cell_type": "code",
      "metadata": {
        "id": "FV5-hEWdpRdd"
      },
      "source": [
        "# let's see how to create a basic function that squares the input\n",
        "def squared(x):\n",
        "  return x ** 2"
      ],
      "execution_count": null,
      "outputs": []
    },
    {
      "cell_type": "code",
      "metadata": {
        "id": "cQZDrvwCpRa3",
        "colab": {
          "base_uri": "https://localhost:8080/"
        },
        "outputId": "2536441c-f05c-442f-a417-332fab250419"
      },
      "source": [
        "# Function call\n",
        "squared(3)"
      ],
      "execution_count": null,
      "outputs": [
        {
          "output_type": "execute_result",
          "data": {
            "text/plain": [
              "9"
            ]
          },
          "metadata": {},
          "execution_count": 11
        }
      ]
    },
    {
      "cell_type": "code",
      "metadata": {
        "id": "r5u0-IOBpRZq"
      },
      "source": [
        "# We can do the same task using Lambda expression\n",
        "# Note that there is no function name\n",
        "y = lambda x: x ** 2"
      ],
      "execution_count": null,
      "outputs": []
    },
    {
      "cell_type": "code",
      "metadata": {
        "id": "hLsuWg7apRW9",
        "colab": {
          "base_uri": "https://localhost:8080/"
        },
        "outputId": "06eae15a-04ee-47cc-e916-3231fa5b7c2c"
      },
      "source": [
        "y(8)"
      ],
      "execution_count": null,
      "outputs": [
        {
          "output_type": "execute_result",
          "data": {
            "text/plain": [
              "64"
            ]
          },
          "metadata": {},
          "execution_count": 14
        }
      ]
    },
    {
      "cell_type": "code",
      "metadata": {
        "id": "OKcE7JHBuzTj"
      },
      "source": [
        "# Note that lambda expression can take in more than one argument\n",
        "# there is only one expression that could be performed\n",
        "def summation(x,y,z):\n",
        "  return x+y+z\n",
        "\n",
        "# function call\n",
        "summation(1,2,3)"
      ],
      "execution_count": null,
      "outputs": []
    },
    {
      "cell_type": "code",
      "metadata": {
        "id": "kAuNql-zuzPE",
        "colab": {
          "base_uri": "https://localhost:8080/"
        },
        "outputId": "2df613a3-63dd-4b08-a1db-a65691b1cb21"
      },
      "source": [
        "# lambda function\n",
        "result = lambda x,y,z: x+y+z\n",
        "\n",
        "# function call\n",
        "result(1,2,3)"
      ],
      "execution_count": null,
      "outputs": [
        {
          "output_type": "execute_result",
          "data": {
            "text/plain": [
              "6"
            ]
          },
          "metadata": {},
          "execution_count": 17
        }
      ]
    },
    {
      "cell_type": "markdown",
      "metadata": {
        "id": "KTRBKK97fQGG"
      },
      "source": [
        "**MINI CHALLENGE #3:**\n",
        "- **Repeat mini challenge #2 (Write a code that takes in two inputs from the user and calculates the total) using lambda expressions instead**"
      ]
    },
    {
      "cell_type": "code",
      "metadata": {
        "id": "jz5bvTOmuHhG",
        "colab": {
          "base_uri": "https://localhost:8080/"
        },
        "outputId": "9cee9a8c-4e01-4f9d-f86b-c40d01cfff03"
      },
      "source": [
        "\n",
        "total = lambda shares, prices: shares * prices\n",
        "\n",
        "# function call\n",
        "shares = int(input('Enter no.of shares: '))\n",
        "prices = int(input('Enter each share price: '))\n",
        "total(shares, prices)"
      ],
      "execution_count": null,
      "outputs": [
        {
          "name": "stdout",
          "output_type": "stream",
          "text": [
            "Enter no.of shares: 10\n",
            "Enter each share price: 100\n"
          ]
        },
        {
          "output_type": "execute_result",
          "data": {
            "text/plain": [
              "1000"
            ]
          },
          "metadata": {},
          "execution_count": 18
        }
      ]
    },
    {
      "cell_type": "markdown",
      "metadata": {
        "id": "S8pekOcjKF6H"
      },
      "source": [
        "# 4. MAP"
      ]
    },
    {
      "cell_type": "code",
      "metadata": {
        "id": "-zx6IFX7KdKi"
      },
      "source": [
        "# The map() function takes in a function and a list.\n",
        "# map() performs an operation on the entire list and return the results in a new list.\n",
        "# Define two lists a and b\n",
        "a = [1, 4, 5, 6, 9]\n",
        "b = [1, 7, 9, 12, 7]"
      ],
      "execution_count": 14,
      "outputs": []
    },
    {
      "cell_type": "code",
      "metadata": {
        "id": "l4AEJ33iih46"
      },
      "source": [
        "# Let's define a function that adds two elements together\n",
        "def summation(a, b):\n",
        "  return a+b"
      ],
      "execution_count": 2,
      "outputs": []
    },
    {
      "cell_type": "code",
      "metadata": {
        "id": "8ZEm6BjIKdQ7",
        "colab": {
          "base_uri": "https://localhost:8080/"
        },
        "outputId": "633c7ece-11ea-45e6-afc8-d31a762715c9"
      },
      "source": [
        "# You can now use map() to apply a function to the entire list and generate a new list\n",
        "c = list(map(summation, a, b))\n",
        "c"
      ],
      "execution_count": 15,
      "outputs": [
        {
          "output_type": "execute_result",
          "data": {
            "text/plain": [
              "[2, 11, 14, 18, 16]"
            ]
          },
          "metadata": {},
          "execution_count": 15
        }
      ]
    },
    {
      "cell_type": "code",
      "metadata": {
        "id": "pc6LxQQFKdM2",
        "colab": {
          "base_uri": "https://localhost:8080/"
        },
        "outputId": "09fa0d25-b80e-427b-aa65-309e33b5c764"
      },
      "source": [
        "# map could be used with Lambda as follows\n",
        "# lambda function is an anonymous function that take any number of arguments and can only have one expression\n",
        "input_list = [1, 2, 3, 4]\n",
        "\n",
        "output = list(map(lambda x: x ** 2, input_list))\n",
        "output"
      ],
      "execution_count": 36,
      "outputs": [
        {
          "output_type": "execute_result",
          "data": {
            "text/plain": [
              "[1, 4, 9, 16]"
            ]
          },
          "metadata": {},
          "execution_count": 36
        }
      ]
    },
    {
      "cell_type": "markdown",
      "metadata": {
        "id": "Dj4Wcbr1gLo8"
      },
      "source": [
        "**MINI CHALLENGE #4:**\n",
        "- **Write a function that takes an argument and return its cubic value**\n",
        "- **Define a list of integers ranging from -10 to 10**\n",
        "- **Apply the function to the entire list and generate a new output list**\n"
      ]
    },
    {
      "cell_type": "code",
      "metadata": {
        "id": "pqXiuFVxvU18",
        "colab": {
          "base_uri": "https://localhost:8080/"
        },
        "outputId": "c6e55345-fb34-4120-e1ae-885bf4681d75"
      },
      "source": [
        "# Write a function that takes an argument and return its cubic value\n",
        "def cubic(x):\n",
        "  return x * x * x\n",
        "\n",
        "# Define a list of integers ranging from -10 to 10\n",
        "input_list = list(range(-10, 11))\n",
        "print(input_list)\n",
        "\n",
        "# Apply the function to the entire list and generate a new output list\n",
        "output = list(map(cubic, input_list))\n",
        "print(output)"
      ],
      "execution_count": 39,
      "outputs": [
        {
          "output_type": "stream",
          "name": "stdout",
          "text": [
            "[-10, -9, -8, -7, -6, -5, -4, -3, -2, -1, 0, 1, 2, 3, 4, 5, 6, 7, 8, 9, 10]\n",
            "[-1000, -729, -512, -343, -216, -125, -64, -27, -8, -1, 0, 1, 8, 27, 64, 125, 216, 343, 512, 729, 1000]\n"
          ]
        }
      ]
    },
    {
      "cell_type": "markdown",
      "metadata": {
        "id": "BtAxpyeGKGA1"
      },
      "source": [
        "# 5. FILTER\n"
      ]
    },
    {
      "cell_type": "code",
      "metadata": {
        "id": "D5LVa00JKdz0",
        "colab": {
          "base_uri": "https://localhost:8080/"
        },
        "outputId": "954c76da-fb72-41d8-a44d-b13bce21f40b"
      },
      "source": [
        "# filter is used to create a list of elements for which a function returns \"True\".\n",
        "prices = [568, 483, 900, 765, 868]\n",
        "prices"
      ],
      "execution_count": 19,
      "outputs": [
        {
          "output_type": "execute_result",
          "data": {
            "text/plain": [
              "[568, 483, 900, 765, 868]"
            ]
          },
          "metadata": {},
          "execution_count": 19
        }
      ]
    },
    {
      "cell_type": "code",
      "metadata": {
        "id": "cgQq4hlcKd4A",
        "colab": {
          "base_uri": "https://localhost:8080/"
        },
        "outputId": "95125964-41e3-455b-ef1f-e8db686f43de"
      },
      "source": [
        "# return only even numbers\n",
        "out = list(filter(lambda x: x%2 == 0, prices))\n",
        "out"
      ],
      "execution_count": 20,
      "outputs": [
        {
          "output_type": "execute_result",
          "data": {
            "text/plain": [
              "[568, 900, 868]"
            ]
          },
          "metadata": {},
          "execution_count": 20
        }
      ]
    },
    {
      "cell_type": "code",
      "metadata": {
        "id": "shory4UpKd2Y",
        "colab": {
          "base_uri": "https://localhost:8080/"
        },
        "outputId": "9946b559-9ede-442f-c5fc-61bddcd528ed"
      },
      "source": [
        "# Return prices that are greater than or equal 100\n",
        "out = list(filter(lambda x: x > 600, prices))\n",
        "out"
      ],
      "execution_count": 22,
      "outputs": [
        {
          "output_type": "execute_result",
          "data": {
            "text/plain": [
              "[900, 765, 868]"
            ]
          },
          "metadata": {},
          "execution_count": 22
        }
      ]
    },
    {
      "cell_type": "code",
      "metadata": {
        "id": "uQi17-h_hlSf",
        "colab": {
          "base_uri": "https://localhost:8080/"
        },
        "outputId": "957b9d9b-a383-44cd-bd31-330fd22ce2d0"
      },
      "source": [
        "# Return values between 200 and 250\n",
        "out = list(filter(lambda x: (x>= 200 and x<=250), prices))\n",
        "out"
      ],
      "execution_count": 23,
      "outputs": [
        {
          "output_type": "execute_result",
          "data": {
            "text/plain": [
              "[]"
            ]
          },
          "metadata": {},
          "execution_count": 23
        }
      ]
    },
    {
      "cell_type": "markdown",
      "metadata": {
        "id": "JZIiCmyvh7EW"
      },
      "source": [
        "**MINI CHALLENGE #5:**\n",
        "- **Write a code from the user that takes in a range (upper and lower bounds) and returns a list of positive and even numbers only**\n"
      ]
    },
    {
      "cell_type": "code",
      "metadata": {
        "id": "4JDq7Y04ve0S",
        "colab": {
          "base_uri": "https://localhost:8080/"
        },
        "outputId": "203efd70-9460-4e5a-f636-80b7f49e2d0d"
      },
      "source": [
        "min = int(input('Enter the lower bound for a range *must be negative* '))\n",
        "max = int(input('Enter the upper bound for a range *must be positive* '))\n",
        "\n",
        "numbers = range(min, max)\n",
        "\n",
        "out = list(filter(lambda x: (x>0 and x%2==0), numbers))\n",
        "out\n"
      ],
      "execution_count": 42,
      "outputs": [
        {
          "name": "stdout",
          "output_type": "stream",
          "text": [
            "Enter the lower bound for a range *must be negative* -8\n",
            "Enter the upper bound for a range *must be positive* 18\n"
          ]
        },
        {
          "output_type": "execute_result",
          "data": {
            "text/plain": [
              "[2, 4, 6, 8, 10, 12, 14, 16]"
            ]
          },
          "metadata": {},
          "execution_count": 42
        }
      ]
    },
    {
      "cell_type": "markdown",
      "metadata": {
        "id": "BTLG7E2YeYIu"
      },
      "source": [
        "# MINI CHALLENGE SOLUTIONS"
      ]
    },
    {
      "cell_type": "markdown",
      "metadata": {
        "id": "Sr6wSsDGecLe"
      },
      "source": [
        "**MINI CHALLENGE #1 SOLUTION:**\n",
        "- **Write a code that takes in 2 lists x = [-1 -4 -7] and y = [-3 7 4] and  calculates the absolute sum of all its elements |x+y|**"
      ]
    },
    {
      "cell_type": "code",
      "metadata": {
        "id": "Ytdw0BKxKFRx",
        "colab": {
          "base_uri": "https://localhost:8080/",
          "height": 34
        },
        "outputId": "60213af7-fbf9-4732-df56-c6263267ef27"
      },
      "source": [
        "x = [-1, -4, -7]\n",
        "y = [-3, 7, 4]\n",
        "z = abs(sum(x+y))\n",
        "z"
      ],
      "execution_count": null,
      "outputs": [
        {
          "output_type": "execute_result",
          "data": {
            "text/plain": [
              "4"
            ]
          },
          "metadata": {
            "tags": []
          },
          "execution_count": 11
        }
      ]
    },
    {
      "cell_type": "markdown",
      "metadata": {
        "id": "YAh_RlMreu3V"
      },
      "source": [
        "**MINI CHALLENGE #2: SOLUTION**\n",
        "- **Write a code that takes in two inputs (number of units and prices) from the user and calculate the total account balance**"
      ]
    },
    {
      "cell_type": "code",
      "metadata": {
        "id": "7zwqjcIresGA"
      },
      "source": [
        "def total(units, price):\n",
        "    amount = units * price\n",
        "    return(amount)"
      ],
      "execution_count": null,
      "outputs": []
    },
    {
      "cell_type": "code",
      "metadata": {
        "id": "MjKWBisLet6b",
        "colab": {
          "base_uri": "https://localhost:8080/",
          "height": 67
        },
        "outputId": "65db3176-bed8-4829-f208-559309835034"
      },
      "source": [
        "num_shares = int(input(\"Enter the number of shares: \"))\n",
        "price = int(input(\"Enter the price per share: \"))\n",
        "account_balance = total(num_shares, price)\n",
        "\n",
        "print('Total account balance = {}'.format(account_balance))"
      ],
      "execution_count": null,
      "outputs": [
        {
          "output_type": "stream",
          "text": [
            "Enter the number of shares: 80\n",
            "Enter the price per share: 5\n",
            "Total account balance = 400\n"
          ],
          "name": "stdout"
        }
      ]
    },
    {
      "cell_type": "markdown",
      "metadata": {
        "id": "fCXG1j3qfipT"
      },
      "source": [
        "**MINI CHALLENGE #3 SOLUTION**\n",
        "- **Repeat mini challenge #2 (Write a code that takes in two inputs from the user and calculates the total) using lambda expressions instead**"
      ]
    },
    {
      "cell_type": "code",
      "metadata": {
        "id": "oYBrDfsTe-pI",
        "colab": {
          "base_uri": "https://localhost:8080/",
          "height": 67
        },
        "outputId": "cf9c2c4b-4710-4c88-8171-bd14e57b55d9"
      },
      "source": [
        "num_shares = int(input(\"Enter the number of shares: \"))\n",
        "price = int(input(\"Enter the price per share: \"))\n",
        "\n",
        "account_balance = lambda num_shares, price : num_shares * price\n",
        "print('Total = {}'.format(account_balance(num_shares, price)))\n"
      ],
      "execution_count": null,
      "outputs": [
        {
          "output_type": "stream",
          "text": [
            "Enter the number of shares: 80\n",
            "Enter the price per share: 5\n",
            "Total = 400\n"
          ],
          "name": "stdout"
        }
      ]
    },
    {
      "cell_type": "markdown",
      "metadata": {
        "id": "sAkiC9hYhHgX"
      },
      "source": [
        "**MINI CHALLENGE #4 SOLUTION:**\n",
        "- **Write a function that takes an argument and return its cubic value**\n",
        "- **Define a list of integers ranging from -10 to 10**\n",
        "- **Apply the function to the entire list and generate a new output list**"
      ]
    },
    {
      "cell_type": "code",
      "metadata": {
        "id": "hw2O6o4XhDLN"
      },
      "source": [
        "def cubic(x):\n",
        "    return (x*x*x)\n",
        "\n",
        "numbers = range(-10, 11)\n",
        "numbers_cubed = list(map(lambda x: cubic(x), numbers))\n",
        "print(list(numbers))\n",
        "print(numbers_cubed)"
      ],
      "execution_count": null,
      "outputs": []
    },
    {
      "cell_type": "markdown",
      "metadata": {
        "id": "WafFpX3zifYK"
      },
      "source": [
        "**MINI CHALLENGE #5 SOLUTION:**\n",
        "- **Write a code from the user that takes in a range (upper and lower bounds) and returns a list of positive and even numbers only**\n"
      ]
    },
    {
      "cell_type": "code",
      "metadata": {
        "id": "jbTis2cBib1x",
        "colab": {
          "base_uri": "https://localhost:8080/"
        },
        "outputId": "e708519f-6f17-4d87-9737-7defc333e30b"
      },
      "source": [
        "min = int(input(\"Enter a number (lower bound) *must be negative* : \"))\n",
        "max = int(input(\"Enter a number (Upper bound:) \"))\n",
        "\n",
        "numbers = range(min, max)\n",
        "even_greater_than_zero = list(filter(lambda x: (x > 0 and x%2 == 0), numbers))\n",
        "print(even_greater_than_zero)\n"
      ],
      "execution_count": 43,
      "outputs": [
        {
          "output_type": "stream",
          "name": "stdout",
          "text": [
            "Enter a number (lower bound) *must be negative* : -8\n",
            "Enter a number (Upper bound:) 9\n",
            "[2, 4, 6, 8]\n"
          ]
        }
      ]
    }
  ]
}